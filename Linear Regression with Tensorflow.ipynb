{
 "cells": [
  {
   "cell_type": "markdown",
   "metadata": {},
   "source": [
    "# Linear Regression\n"
   ]
  },
  {
   "cell_type": "markdown",
   "metadata": {},
   "source": [
    "Defining a linear regression in simple terms, its the approximation of a linear model used to describe the relationship betweeen two or more variables. In a simple linear regression there are two variables, the dependent variable, which can be seen as the \"state\" or \"final goal\" we study and try to predict, and the independent variables, also known as explanatory variables, which can be seen as the \"causes\" of the \"states\".\n",
    "\n",
    "When more than one independent variable is present the process is called multiple linear regression. When multiple dependent variables are predicted the process is known as multivariate linear regression.\n",
    "\n",
    "The very known equation of a simple linear model is\n",
    "\n",
    "Y=aX+b\n",
    " \n",
    "Where Y is the dependent variable and X is the independent variable, and a and b being the parameters we adjust. a is known as \"slope\" or \"gradient\" and b as \"intercept\". You can interpret this equation as Y being a function of X, or Y being dependent of X.\n",
    "\n",
    "If you plot the model, you will see it is a line, and by adjusting the \"slope\" parameter you will change the angle between the line and the independent variable axis, and the \"intercept parameter\" will affect where it crosses the dependent variable axis.\n",
    "\n",
    "Let's first import packages:"
   ]
  },
  {
   "cell_type": "code",
   "execution_count": 1,
   "metadata": {},
   "outputs": [],
   "source": [
    "import numpy as np\n",
    "import tensorflow as tf\n",
    "import matplotlib.patches as mpatches\n",
    "import matplotlib.pyplot as plt\n",
    "%matplotlib inline \n",
    "plt.rcParams['figure.figsize'] = (10, 6)"
   ]
  },
  {
   "cell_type": "code",
   "execution_count": 2,
   "metadata": {},
   "outputs": [
    {
     "data": {
      "text/plain": [
       "array([ 0. ,  0.1,  0.2,  0.3,  0.4])"
      ]
     },
     "execution_count": 2,
     "metadata": {},
     "output_type": "execute_result"
    }
   ],
   "source": [
    "## defining the independent variable:\n",
    "X = np.arange(0.0, 0.5, 0.1)\n",
    "X"
   ]
  },
  {
   "cell_type": "code",
   "execution_count": 8,
   "metadata": {},
   "outputs": [
    {
     "data": {
      "image/png": "[encoded data removed]",
      "text/plain": [
       "<matplotlib.figure.Figure at 0x29fa7e01c50>"
      ]
     },
     "metadata": {},
     "output_type": "display_data"
    }
   ],
   "source": [
    "##You can adjust the slope and intercept to verify the changes in the graph\n",
    "a = 1\n",
    "b = 0\n",
    "\n",
    "Y = a*X + b\n",
    "plt.plot(X,Y)\n",
    "plt.ylabel('Dependent variable')\n",
    "plt.xlabel('Independent variable')\n",
    "plt.show()"
   ]
  },
  {
   "cell_type": "markdown",
   "metadata": {},
   "source": [
    "# Linear Regression with Tensorflow "
   ]
  },
  {
   "cell_type": "markdown",
   "metadata": {},
   "source": [
    "A simple example of a linear function can help us understand the basic mechanism behind TensorFlow. \n",
    "For the first part we will generate random data points and define a linear relation, we'll use TensorFlow to adjust and get the right parameters."
   ]
  },
  {
   "cell_type": "code",
   "execution_count": 29,
   "metadata": {
    "collapsed": true
   },
   "outputs": [],
   "source": [
    "x_data = np.random.randn(100).astype(np.float32)"
   ]
  },
  {
   "cell_type": "code",
   "execution_count": 30,
   "metadata": {},
   "outputs": [
    {
     "name": "stdout",
     "output_type": "stream",
     "text": [
      "[ 5.19979697  0.01705423 -0.30363676  1.9732751   1.37404468  1.76460285\n",
      "  0.62378653  8.7332745   0.99501907 -1.28549385  2.60890888  2.31856226\n",
      "  4.46415366  3.21126902  6.35533425  2.69623832  0.49601754 -1.75601622\n",
      "  4.2250374   2.0595566   4.26204718  0.04572728  6.31870385 -2.20697676\n",
      "  4.40306866 -1.50673307  5.5622784  -4.59947506 -1.34984755  5.60564663\n",
      "  0.77996175  0.86542284 -4.83571051  2.59902204  6.9620677   3.86678403\n",
      "  2.49912519  0.89811609  1.48254806  0.09231017  2.64380748  1.99907528\n",
      "  1.2027835   0.84273173 -0.99752893  3.0594473   1.67235129  3.09111628\n",
      "  9.42390631 -2.3797756  -1.01548833  1.78192435 -0.32301167  4.43162199\n",
      "  2.85747468 -0.02439302  1.92157839  2.02276098  1.61382999  5.92586852\n",
      "  4.29863885  0.45597616 -2.25446832  2.88595052  4.10223687  0.90675699\n",
      "  1.37168436  5.40310243  1.4070912   5.34848669  2.32146446 -2.49301381\n",
      "  4.05751573  4.47738042  1.13810123 -1.25364365  1.78381259 -5.04353832\n",
      "  5.96702913  4.51529689  8.09828955  3.66155064  0.27814947  1.27545216\n",
      "  4.40184759 -0.05169136  3.25663097  2.14830264  3.32218395  6.45512446\n",
      "  1.51916204 -1.19440106  0.03006028  0.18007228 -1.80971029  2.60449963\n",
      "  0.10513965  4.57596376  4.74493175  8.36970221]\n"
     ]
    }
   ],
   "source": [
    "y_data = x_data * 3 + 2\n",
    "y_data = np.vectorize(lambda y: y +np.random.normal(loc =0.0, scale = 0.1))(y_data)\n",
    "print(y_data)"
   ]
  },
  {
   "cell_type": "code",
   "execution_count": null,
   "metadata": {},
   "outputs": [],
   "source": []
  },
  {
   "cell_type": "code",
   "execution_count": 31,
   "metadata": {
    "collapsed": true
   },
   "outputs": [],
   "source": [
    "a = tf.Variable(1.0)\n",
    "b = tf.Variable(0.2)"
   ]
  },
  {
   "cell_type": "code",
   "execution_count": 32,
   "metadata": {},
   "outputs": [],
   "source": [
    "y = a*x_data + b"
   ]
  },
  {
   "cell_type": "markdown",
   "metadata": {},
   "source": [
    "In a linear regression, we minimize the squared error of the equation that we want to adjust minus the target values (the data that we have), so we define the equation to be minimized as loss.\n",
    "\n",
    "To find Loss's value, we use tf.reduce_mean(). This function finds the mean of a multidimensional tensor, and the result can have a diferent dimension."
   ]
  },
  {
   "cell_type": "code",
   "execution_count": 33,
   "metadata": {},
   "outputs": [],
   "source": [
    "loss = tf.reduce_mean(tf.square(y - y_data))"
   ]
  },
  {
   "cell_type": "markdown",
   "metadata": {},
   "source": [
    "Then, we define the optimizer method. Here we will use a simple gradient descent with a learning rate of 0.5: \n",
    "\n",
    "Now we will define the training method of our graph, what method we will use for minimize the loss? We will use the tf.train.GradientDescentOptimizer.\n",
    ".minimize()__ will minimize the error function of our optimizer, resulting in a better model."
   ]
  },
  {
   "cell_type": "code",
   "execution_count": 34,
   "metadata": {},
   "outputs": [],
   "source": [
    "optimizer = tf.train.GradientDescentOptimizer(0.5)\n",
    "train = optimizer.minimize(loss)"
   ]
  },
  {
   "cell_type": "code",
   "execution_count": 35,
   "metadata": {
    "collapsed": true
   },
   "outputs": [],
   "source": [
    "## dont foregt to initialize the variable before executing a graph\n",
    "init = tf.global_variables_initializer()\n",
    "sess = tf.Session()\n",
    "sess.run(init)"
   ]
  },
  {
   "cell_type": "code",
   "execution_count": 36,
   "metadata": {},
   "outputs": [
    {
     "name": "stdout",
     "output_type": "stream",
     "text": [
      "0 [2.8777623, 2.0559237]\n",
      "5 [2.9957519, 1.9952593]\n",
      "10 [2.9957528, 1.995259]\n",
      "15 [2.9957528, 1.9952589]\n",
      "20 [2.9957528, 1.995259]\n",
      "25 [2.9957528, 1.9952589]\n",
      "30 [2.9957528, 1.995259]\n",
      "35 [2.9957528, 1.9952589]\n",
      "40 [2.9957528, 1.995259]\n",
      "45 [2.9957528, 1.9952589]\n",
      "50 [2.9957528, 1.995259]\n",
      "55 [2.9957528, 1.9952589]\n",
      "60 [2.9957528, 1.995259]\n",
      "65 [2.9957528, 1.9952589]\n",
      "70 [2.9957528, 1.995259]\n",
      "75 [2.9957528, 1.9952589]\n",
      "80 [2.9957528, 1.995259]\n",
      "85 [2.9957528, 1.9952589]\n",
      "90 [2.9957528, 1.995259]\n",
      "95 [2.9957528, 1.9952589]\n"
     ]
    }
   ],
   "source": [
    "## now we are ready to start the optimization and the graph:\n",
    "train_data = []\n",
    "for step in range(100):\n",
    "    evals = sess.run([train,a,b])[1:]\n",
    "    if step % 5 ==0:\n",
    "        print(step, evals)\n",
    "        train_data.append(evals)"
   ]
  },
  {
   "cell_type": "code",
   "execution_count": 37,
   "metadata": {},
   "outputs": [
    {
     "data": {
      "image/png": "[encoded data removed]",
      "text/plain": [
       "<matplotlib.figure.Figure at 0x1f2a8238eb8>"
      ]
     },
     "metadata": {},
     "output_type": "display_data"
    }
   ],
   "source": [
    "converter = plt.colors\n",
    "cr, cg, cb = (1.0, 1.0, 0.0)\n",
    "for f in train_data:\n",
    "    cb += 1.0/ len(train_data)\n",
    "    cg -= 1.0/len(train_data)\n",
    "    if cb > 1.0: cb = 1.0\n",
    "    if cg < 0.0: cg = 0.0\n",
    "    [a, b] = f\n",
    "    f_y = np.vectorize(lambda x: a*x +b)(x_data)\n",
    "    line = plt.plot(x_data, f_y)\n",
    "    plt.setp(line, color = (cr, cg, cb))\n",
    "    \n",
    "plt.plot(x_data, y_data,  'ro')\n",
    "green_line = mpatches.Patch(color='red', label='Data Points')\n",
    "\n",
    "plt.legend(handles=[green_line])\n",
    "\n",
    "plt.show()"
   ]
  },
  {
   "cell_type": "code",
   "execution_count": null,
   "metadata": {
    "collapsed": true
   },
   "outputs": [],
   "source": []
  }
 ],
 "metadata": {
  "kernelspec": {
   "display_name": "Python 3",
   "language": "python",
   "name": "python3"
  },
  "language_info": {
   "codemirror_mode": {
    "name": "ipython",
    "version": 3
   },
   "file_extension": ".py",
   "mimetype": "text/x-python",
   "name": "python",
   "nbconvert_exporter": "python",
   "pygments_lexer": "ipython3",
   "version": "3.6.1"
  }
 },
 "nbformat": 4,
 "nbformat_minor": 2
}
