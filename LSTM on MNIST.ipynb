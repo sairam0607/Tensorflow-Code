{
 "cells": [
  {
   "cell_type": "code",
   "execution_count": 15,
   "metadata": {
    "collapsed": true
   },
   "outputs": [],
   "source": [
    "import tensorflow as tf\n",
    "import numpy as np\n",
    "import matplotlib.pyplot as plt\n",
    "import matplotlib.cm as cm"
   ]
  },
  {
   "cell_type": "code",
   "execution_count": 2,
   "metadata": {
    "collapsed": true
   },
   "outputs": [],
   "source": [
    "%matplotlib inline\n",
    "import warnings\n",
    "warnings.filterwarnings('ignore')"
   ]
  },
  {
   "cell_type": "code",
   "execution_count": 61,
   "metadata": {},
   "outputs": [
    {
     "name": "stdout",
     "output_type": "stream",
     "text": [
      "Extracting .\\train-images-idx3-ubyte.gz\n",
      "Extracting .\\train-labels-idx1-ubyte.gz\n",
      "Extracting .\\t10k-images-idx3-ubyte.gz\n",
      "Extracting .\\t10k-labels-idx1-ubyte.gz\n"
     ]
    }
   ],
   "source": [
    "from tensorflow.examples.tutorials.mnist import input_data\n",
    "from sklearn.metrics import accuracy_score\n",
    "mnist = input_data.read_data_sets(\".\", one_hot = True)"
   ]
  },
  {
   "cell_type": "code",
   "execution_count": 4,
   "metadata": {
    "collapsed": true
   },
   "outputs": [],
   "source": [
    "trainimgs = mnist.train.images\n",
    "trainlabels = mnist.train.labels\n",
    "testimgs = mnist.test.images\n",
    "testlabels = mnist.test.labels \n"
   ]
  },
  {
   "cell_type": "code",
   "execution_count": 5,
   "metadata": {},
   "outputs": [],
   "source": [
    "ntrain = trainimgs.shape[0]\n",
    "ntest = testimgs.shape[0]\n",
    "dim = trainimgs.shape[1]\n",
    "nclasses = trainlabels.shape[1]"
   ]
  },
  {
   "cell_type": "code",
   "execution_count": 7,
   "metadata": {},
   "outputs": [
    {
     "name": "stdout",
     "output_type": "stream",
     "text": [
      "Train Images:  (55000, 784)\n",
      "Train Labels   (55000, 10)\n",
      "Test Images:   (10000, 784)\n",
      "Test Labels:   (10000, 10)\n"
     ]
    }
   ],
   "source": [
    "print(\"Train Images: \", trainimgs.shape)\n",
    "print(\"Train Labels  \", trainlabels.shape)\n",
    "print(\"Test Images:  \" , testimgs.shape)\n",
    "print(\"Test Labels:  \", testlabels.shape)"
   ]
  },
  {
   "cell_type": "code",
   "execution_count": 26,
   "metadata": {},
   "outputs": [
    {
     "data": {
      "image/png": "[encoded data removed]",
      "text/plain": [
       "<matplotlib.figure.Figure at 0x220e977f7f0>"
      ]
     },
     "metadata": {},
     "output_type": "display_data"
    },
    {
     "name": "stdout",
     "output_type": "stream",
     "text": [
      "Sample: 100 - Class: [6] - Label Vector: [ 0.  0.  0.  0.  0.  0.  1.  0.  0.  0.] \n",
      "Sample: 1000 - Class: [9] - Label Vector: [ 0.  0.  0.  0.  0.  0.  0.  0.  0.  1.] \n",
      "Sample: 7000 - Class: [1] - Label Vector: [ 0.  1.  0.  0.  0.  0.  0.  0.  0.  0.] \n"
     ]
    }
   ],
   "source": [
    "samplesIdx = [100, 1000,7000]\n",
    "from mpl_toolkits.mplot3d import Axes3D\n",
    "fig = plt.figure()\n",
    "\n",
    "ax1 = fig.add_subplot(121)\n",
    "ax1.imshow(testimgs[samplesIdx[0]].reshape([28,28]), cmap='gray')\n",
    "\n",
    "\n",
    "xx, yy = np.meshgrid(np.linspace(0,28,28), np.linspace(0,28,28))\n",
    "X =  xx ; Y =  yy\n",
    "Z =  100*np.ones(X.shape)\n",
    "\n",
    "img = testimgs[77].reshape([28,28])\n",
    "ax = fig.add_subplot(122, projection='3d')\n",
    "ax.set_zlim((0,200))\n",
    "\n",
    "\n",
    "offset=200\n",
    "for i in samplesIdx:\n",
    "    img = testimgs[i].reshape([28,28]).transpose()\n",
    "    ax.contourf(X, Y, img, 200, zdir='z', offset=offset, cmap=\"gray\")\n",
    "    offset -= 100\n",
    "\n",
    "    ax.set_xticks([])\n",
    "ax.set_yticks([])\n",
    "ax.set_zticks([])\n",
    "\n",
    "plt.show()\n",
    "\n",
    "\n",
    "for i in samplesIdx:\n",
    "    print(\"Sample: {0} - Class: {1} - Label Vector: {2} \".format(i, np.nonzero(testlabels[i])[0], testlabels[i]))\n",
    "\n"
   ]
  },
  {
   "cell_type": "markdown",
   "metadata": {},
   "source": [
    "# Our simple RNN consists of \n"
   ]
  },
  {
   "cell_type": "markdown",
   "metadata": {},
   "source": [
    "1. One input layer which converts a  28∗28  dimensional input to an  128  dimensional hidden layer,\n",
    "2. One intermediate recurrent neural network (LSTM)\n",
    "3. One output layer which converts an  128  dimensional output of the LSTM to  10  dimensional output indicating a class label."
   ]
  },
  {
   "cell_type": "code",
   "execution_count": 27,
   "metadata": {
    "collapsed": true
   },
   "outputs": [],
   "source": [
    "n_input = 28 # mnist data input \n",
    "n_steps = 28 # timesteps \n",
    "n_hidden = 128 # hidden layer num of features\n",
    "n_classes = 10 # mnist total classes \n",
    "\n",
    "learning_rate = 0.001\n",
    "training_iters = 100000\n",
    "batch_size = 100\n",
    "display_step = 10"
   ]
  },
  {
   "cell_type": "markdown",
   "metadata": {},
   "source": [
    "# Construct a Recurrent Neural Network  "
   ]
  },
  {
   "cell_type": "markdown",
   "metadata": {},
   "source": [
    "the input should be a tensor of shape: [batch_size, time_steps, input_dimension], but in our case it would be (?, 28,28)\n"
   ]
  },
  {
   "cell_type": "code",
   "execution_count": 28,
   "metadata": {
    "collapsed": true
   },
   "outputs": [],
   "source": [
    "x = tf.placeholder(dtype=\"float\", shape = [None,n_steps, n_input], name = \"x\")\n",
    "y = tf.placeholder(dtype=\"float\", shape = [None, n_classes], name = \"y\")"
   ]
  },
  {
   "cell_type": "code",
   "execution_count": 31,
   "metadata": {},
   "outputs": [],
   "source": [
    "#lets create the weights and bias \n",
    "weights = {\n",
    "    'out': tf.Variable(tf.random_normal([n_hidden,n_classes]))\n",
    "}\n",
    "biases = {\n",
    "    'out': tf.Variable(tf.random_normal([n_classes]))\n",
    "}"
   ]
  },
  {
   "cell_type": "code",
   "execution_count": 32,
   "metadata": {},
   "outputs": [
    {
     "name": "stdout",
     "output_type": "stream",
     "text": [
      "{'out': <tf.Variable 'Variable:0' shape=(128, 10) dtype=float32_ref>} {'out': <tf.Variable 'Variable_1:0' shape=(10,) dtype=float32_ref>}\n"
     ]
    }
   ],
   "source": [
    "print(weights, biases)"
   ]
  },
  {
   "cell_type": "code",
   "execution_count": 35,
   "metadata": {},
   "outputs": [
    {
     "name": "stdout",
     "output_type": "stream",
     "text": [
      "<tensorflow.python.ops.rnn_cell_impl.BasicLSTMCell object at 0x00000220EB84C080>\n"
     ]
    }
   ],
   "source": [
    "# lets define a lstm cell with tensorflow\n",
    "lstm_cell = tf.contrib.rnn.BasicLSTMCell(n_hidden, forget_bias = 1.0)"
   ]
  },
  {
   "cell_type": "code",
   "execution_count": 36,
   "metadata": {
    "collapsed": true
   },
   "outputs": [],
   "source": [
    "# dynamic_rnn create a RNN specified from lstm_cell\n",
    "outputs, states = tf.nn.dynamic_rnn(lstm_cell, inputs= x, dtype= tf.float32)"
   ]
  },
  {
   "cell_type": "code",
   "execution_count": 37,
   "metadata": {
    "collapsed": true
   },
   "outputs": [],
   "source": [
    "#The output of the rnn would be a [100x28x128] matrix. we use the linear activation to map it to a [?x10 matrix]\n",
    "output = tf.reshape(tf.split(outputs, 28, axis=1, num=None, name='split')[-1],[-1,128])\n",
    "pred = tf.matmul(output, weights['out']) + biases['out']"
   ]
  },
  {
   "cell_type": "code",
   "execution_count": 38,
   "metadata": {},
   "outputs": [
    {
     "data": {
      "text/plain": [
       "<tf.Tensor 'add:0' shape=(?, 10) dtype=float32>"
      ]
     },
     "execution_count": 38,
     "metadata": {},
     "output_type": "execute_result"
    }
   ],
   "source": [
    "pred"
   ]
  },
  {
   "cell_type": "code",
   "execution_count": 43,
   "metadata": {},
   "outputs": [
    {
     "name": "stdout",
     "output_type": "stream",
     "text": [
      "Tensor(\"Mean_4:0\", shape=(), dtype=float32) name: \"Adam_1\"\n",
      "op: \"NoOp\"\n",
      "input: \"^Adam_1/update_Variable/ApplyAdam\"\n",
      "input: \"^Adam_1/update_Variable_1/ApplyAdam\"\n",
      "input: \"^Adam_1/update_rnn/basic_lstm_cell/kernel/ApplyAdam\"\n",
      "input: \"^Adam_1/update_rnn/basic_lstm_cell/bias/ApplyAdam\"\n",
      "input: \"^Adam_1/Assign\"\n",
      "input: \"^Adam_1/Assign_1\"\n",
      "\n"
     ]
    }
   ],
   "source": [
    "## now we have to define the cost and optimizer fucntions \n",
    "cost = tf.reduce_mean( tf.nn.softmax_cross_entropy_with_logits(labels = y, logits = pred))\n",
    "optimizer =  tf.train.AdamOptimizer(learning_rate= learning_rate).minimize(cost)\n",
    "print(cost, optimizer)"
   ]
  },
  {
   "cell_type": "code",
   "execution_count": 66,
   "metadata": {},
   "outputs": [
    {
     "name": "stdout",
     "output_type": "stream",
     "text": [
      "Tensor(\"Equal_2:0\", shape=(?,), dtype=bool) Tensor(\"Mean_6:0\", shape=(), dtype=float32)\n"
     ]
    }
   ],
   "source": [
    "# here we define the accuracy and evalution methods to be used in the learning process\n",
    "correct_pred = tf.equal(tf.argmax(pred,1), tf.argmax(y,1))\n",
    "accuracy = tf.reduce_mean(tf.cast(correct_pred,tf.float32))\n",
    "print(correct_pred, accuarcy)"
   ]
  },
  {
   "cell_type": "code",
   "execution_count": 67,
   "metadata": {},
   "outputs": [
    {
     "name": "stdout",
     "output_type": "stream",
     "text": [
      "Iter 1000, Minibatch Loss= 1.789908, Training Accuracy= 0.33000\n",
      "Iter 2000, Minibatch Loss= 1.648392, Training Accuracy= 0.47000\n",
      "Iter 3000, Minibatch Loss= 1.304311, Training Accuracy= 0.51000\n",
      "Iter 4000, Minibatch Loss= 0.908350, Training Accuracy= 0.65000\n",
      "Iter 5000, Minibatch Loss= 0.880291, Training Accuracy= 0.74000\n",
      "Iter 6000, Minibatch Loss= 0.740380, Training Accuracy= 0.75000\n",
      "Iter 7000, Minibatch Loss= 0.505338, Training Accuracy= 0.85000\n",
      "Iter 8000, Minibatch Loss= 0.415196, Training Accuracy= 0.87000\n",
      "Iter 9000, Minibatch Loss= 0.587057, Training Accuracy= 0.75000\n",
      "Iter 10000, Minibatch Loss= 0.547915, Training Accuracy= 0.87000\n",
      "Iter 11000, Minibatch Loss= 0.372272, Training Accuracy= 0.88000\n",
      "Iter 12000, Minibatch Loss= 0.646169, Training Accuracy= 0.86000\n",
      "Iter 13000, Minibatch Loss= 0.353479, Training Accuracy= 0.91000\n",
      "Iter 14000, Minibatch Loss= 0.329699, Training Accuracy= 0.88000\n",
      "Iter 15000, Minibatch Loss= 0.293527, Training Accuracy= 0.89000\n",
      "Iter 16000, Minibatch Loss= 0.347822, Training Accuracy= 0.88000\n",
      "Iter 17000, Minibatch Loss= 0.454246, Training Accuracy= 0.87000\n",
      "Iter 18000, Minibatch Loss= 0.373141, Training Accuracy= 0.84000\n",
      "Iter 19000, Minibatch Loss= 0.302682, Training Accuracy= 0.91000\n",
      "Iter 20000, Minibatch Loss= 0.190209, Training Accuracy= 0.93000\n",
      "Iter 21000, Minibatch Loss= 0.235629, Training Accuracy= 0.93000\n",
      "Iter 22000, Minibatch Loss= 0.162220, Training Accuracy= 0.95000\n",
      "Iter 23000, Minibatch Loss= 0.229047, Training Accuracy= 0.94000\n",
      "Iter 24000, Minibatch Loss= 0.211254, Training Accuracy= 0.94000\n",
      "Iter 25000, Minibatch Loss= 0.235208, Training Accuracy= 0.93000\n",
      "Iter 26000, Minibatch Loss= 0.206427, Training Accuracy= 0.93000\n",
      "Iter 27000, Minibatch Loss= 0.264456, Training Accuracy= 0.89000\n",
      "Iter 28000, Minibatch Loss= 0.273209, Training Accuracy= 0.92000\n",
      "Iter 29000, Minibatch Loss= 0.248560, Training Accuracy= 0.91000\n",
      "Iter 30000, Minibatch Loss= 0.152623, Training Accuracy= 0.96000\n",
      "Iter 31000, Minibatch Loss= 0.201555, Training Accuracy= 0.95000\n",
      "Iter 32000, Minibatch Loss= 0.294789, Training Accuracy= 0.93000\n",
      "Iter 33000, Minibatch Loss= 0.174216, Training Accuracy= 0.93000\n",
      "Iter 34000, Minibatch Loss= 0.157527, Training Accuracy= 0.94000\n",
      "Iter 35000, Minibatch Loss= 0.253388, Training Accuracy= 0.90000\n",
      "Iter 36000, Minibatch Loss= 0.124735, Training Accuracy= 0.95000\n",
      "Iter 37000, Minibatch Loss= 0.242023, Training Accuracy= 0.91000\n",
      "Iter 38000, Minibatch Loss= 0.205844, Training Accuracy= 0.92000\n",
      "Iter 39000, Minibatch Loss= 0.270164, Training Accuracy= 0.91000\n",
      "Iter 40000, Minibatch Loss= 0.089224, Training Accuracy= 0.97000\n",
      "Iter 41000, Minibatch Loss= 0.095245, Training Accuracy= 0.98000\n",
      "Iter 42000, Minibatch Loss= 0.129222, Training Accuracy= 0.96000\n",
      "Iter 43000, Minibatch Loss= 0.142163, Training Accuracy= 0.95000\n",
      "Iter 44000, Minibatch Loss= 0.109295, Training Accuracy= 0.97000\n",
      "Iter 45000, Minibatch Loss= 0.164168, Training Accuracy= 0.96000\n",
      "Iter 46000, Minibatch Loss= 0.058473, Training Accuracy= 0.99000\n",
      "Iter 47000, Minibatch Loss= 0.176663, Training Accuracy= 0.94000\n",
      "Iter 48000, Minibatch Loss= 0.158452, Training Accuracy= 0.93000\n",
      "Iter 49000, Minibatch Loss= 0.054062, Training Accuracy= 0.98000\n",
      "Iter 50000, Minibatch Loss= 0.125955, Training Accuracy= 0.98000\n",
      "Iter 51000, Minibatch Loss= 0.145489, Training Accuracy= 0.96000\n",
      "Iter 52000, Minibatch Loss= 0.151933, Training Accuracy= 0.94000\n",
      "Iter 53000, Minibatch Loss= 0.123988, Training Accuracy= 0.93000\n",
      "Iter 54000, Minibatch Loss= 0.139156, Training Accuracy= 0.96000\n",
      "Iter 55000, Minibatch Loss= 0.242530, Training Accuracy= 0.94000\n",
      "Iter 56000, Minibatch Loss= 0.119192, Training Accuracy= 0.97000\n",
      "Iter 57000, Minibatch Loss= 0.165698, Training Accuracy= 0.97000\n",
      "Iter 58000, Minibatch Loss= 0.130425, Training Accuracy= 0.95000\n",
      "Iter 59000, Minibatch Loss= 0.139991, Training Accuracy= 0.97000\n",
      "Iter 60000, Minibatch Loss= 0.136424, Training Accuracy= 0.94000\n",
      "Iter 61000, Minibatch Loss= 0.169291, Training Accuracy= 0.97000\n",
      "Iter 62000, Minibatch Loss= 0.160501, Training Accuracy= 0.96000\n",
      "Iter 63000, Minibatch Loss= 0.139772, Training Accuracy= 0.97000\n",
      "Iter 64000, Minibatch Loss= 0.239839, Training Accuracy= 0.93000\n",
      "Iter 65000, Minibatch Loss= 0.192628, Training Accuracy= 0.96000\n",
      "Iter 66000, Minibatch Loss= 0.166973, Training Accuracy= 0.95000\n",
      "Iter 67000, Minibatch Loss= 0.142033, Training Accuracy= 0.95000\n",
      "Iter 68000, Minibatch Loss= 0.032143, Training Accuracy= 1.00000\n",
      "Iter 69000, Minibatch Loss= 0.090399, Training Accuracy= 0.97000\n",
      "Iter 70000, Minibatch Loss= 0.094419, Training Accuracy= 0.96000\n",
      "Iter 71000, Minibatch Loss= 0.059981, Training Accuracy= 0.97000\n",
      "Iter 72000, Minibatch Loss= 0.272478, Training Accuracy= 0.91000\n",
      "Iter 73000, Minibatch Loss= 0.091772, Training Accuracy= 0.97000\n",
      "Iter 74000, Minibatch Loss= 0.216654, Training Accuracy= 0.94000\n",
      "Iter 75000, Minibatch Loss= 0.113194, Training Accuracy= 0.96000\n",
      "Iter 76000, Minibatch Loss= 0.165990, Training Accuracy= 0.95000\n",
      "Iter 77000, Minibatch Loss= 0.235762, Training Accuracy= 0.94000\n",
      "Iter 78000, Minibatch Loss= 0.181754, Training Accuracy= 0.97000\n",
      "Iter 79000, Minibatch Loss= 0.213841, Training Accuracy= 0.93000\n",
      "Iter 80000, Minibatch Loss= 0.067969, Training Accuracy= 0.98000\n",
      "Iter 81000, Minibatch Loss= 0.044900, Training Accuracy= 0.98000\n",
      "Iter 82000, Minibatch Loss= 0.156184, Training Accuracy= 0.94000\n",
      "Iter 83000, Minibatch Loss= 0.131726, Training Accuracy= 0.95000\n",
      "Iter 84000, Minibatch Loss= 0.206808, Training Accuracy= 0.93000\n",
      "Iter 85000, Minibatch Loss= 0.072525, Training Accuracy= 0.97000\n",
      "Iter 86000, Minibatch Loss= 0.060373, Training Accuracy= 0.97000\n",
      "Iter 87000, Minibatch Loss= 0.078417, Training Accuracy= 0.98000\n",
      "Iter 88000, Minibatch Loss= 0.071677, Training Accuracy= 0.97000\n",
      "Iter 89000, Minibatch Loss= 0.088384, Training Accuracy= 0.98000\n",
      "Iter 90000, Minibatch Loss= 0.079820, Training Accuracy= 0.97000\n",
      "Iter 91000, Minibatch Loss= 0.081578, Training Accuracy= 0.98000\n",
      "Iter 92000, Minibatch Loss= 0.073747, Training Accuracy= 0.97000\n",
      "Iter 93000, Minibatch Loss= 0.110185, Training Accuracy= 0.97000\n",
      "Iter 94000, Minibatch Loss= 0.075029, Training Accuracy= 0.99000\n",
      "Iter 95000, Minibatch Loss= 0.103508, Training Accuracy= 0.98000\n",
      "Iter 96000, Minibatch Loss= 0.045961, Training Accuracy= 1.00000\n",
      "Iter 97000, Minibatch Loss= 0.117286, Training Accuracy= 0.97000\n",
      "Iter 98000, Minibatch Loss= 0.102115, Training Accuracy= 0.95000\n",
      "Iter 99000, Minibatch Loss= 0.052523, Training Accuracy= 0.98000\n",
      "Optimization Finished!\n",
      "Testing Accuracy: 0.984375\n"
     ]
    }
   ],
   "source": [
    "init = tf.global_variables_initializer()\n",
    "\n",
    "with tf.Session() as sess:\n",
    "    sess.run(init)\n",
    "    step = 1\n",
    "    # Keep training until reach max iterations\n",
    "    while step * batch_size < training_iters:\n",
    "\n",
    "        # We will read a batch of 100 images [100 x 784] as batch_x\n",
    "        # batch_y is a matrix of [100x10]\n",
    "        batch_x, batch_y = mnist.train.next_batch(batch_size)\n",
    "        \n",
    "        # We consider each row of the image as one sequence\n",
    "        # Reshape data to get 28 seq of 28 elements, so that, batxh_x is [100x28x28]\n",
    "        batch_x = batch_x.reshape((batch_size, n_steps, n_input))\n",
    "    \n",
    "\n",
    "        # Run optimization op (backprop)\n",
    "        sess.run(optimizer, feed_dict={x: batch_x, y: batch_y})\n",
    "        \n",
    "        \n",
    "        if step % display_step == 0:\n",
    "            # Calculate batch accuracy\n",
    "            acc = sess.run(accuracy, feed_dict={x: batch_x, y: batch_y})\n",
    "            # Calculate batch loss\n",
    "            loss = sess.run(cost, feed_dict={x: batch_x, y: batch_y})\n",
    "            print(\"Iter \" + str(step*batch_size) + \", Minibatch Loss= \" + \\\n",
    "                  \"{:.6f}\".format(loss) + \", Training Accuracy= \" + \\\n",
    "                  \"{:.5f}\".format(acc))\n",
    "        step += 1\n",
    "    print(\"Optimization Finished!\")\n",
    "\n",
    "    # Calculate accuracy for 128 mnist test images\n",
    "    test_len = 128\n",
    "    test_data = mnist.test.images[:test_len].reshape((-1, n_steps, n_input))\n",
    "    test_label = mnist.test.labels[:test_len]\n",
    "    print(\"Testing Accuracy:\", \\\n",
    "        sess.run(accuracy, feed_dict={x: test_data, y: test_label}))"
   ]
  },
  {
   "cell_type": "code",
   "execution_count": 68,
   "metadata": {
    "collapsed": true
   },
   "outputs": [],
   "source": [
    "sess.close()"
   ]
  },
  {
   "cell_type": "code",
   "execution_count": null,
   "metadata": {
    "collapsed": true
   },
   "outputs": [],
   "source": []
  }
 ],
 "metadata": {
  "kernelspec": {
   "display_name": "Python 3",
   "language": "python",
   "name": "python3"
  },
  "language_info": {
   "codemirror_mode": {
    "name": "ipython",
    "version": 3
   },
   "file_extension": ".py",
   "mimetype": "text/x-python",
   "name": "python",
   "nbconvert_exporter": "python",
   "pygments_lexer": "ipython3",
   "version": "3.6.1"
  }
 },
 "nbformat": 4,
 "nbformat_minor": 2
}
