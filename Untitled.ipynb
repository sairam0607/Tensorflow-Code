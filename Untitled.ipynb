{
 "cells": [
  {
   "cell_type": "code",
   "execution_count": 19,
   "metadata": {},
   "outputs": [
    {
     "name": "stdout",
     "output_type": "stream",
     "text": [
      "b'\"\"\" This file contains different utility functions that are not connected\\nin anyway to the networks presented in the tutorials, but rather help in\\nprocessing the outputs into a more understandable way.\\n\\nFor example ``tile_raster_images`` helps in generating a easy to grasp\\nimage from a set of samples or weights.\\n\"\"\"\\n\\nimport numpy\\n\\n\\ndef scale_to_unit_interval(ndar, eps=1e-8):\\n    \"\"\" Scales all values in the ndarray ndar to be between 0 and 1 \"\"\"\\n    ndar = ndar.copy()\\n    ndar -= ndar.min()\\n    ndar *= 1.0 / (ndar.max() + eps)\\n    return ndar\\n\\n\\ndef tile_raster_images(X, img_shape, tile_shape, tile_spacing=(0, 0),\\n                       scale_rows_to_unit_interval=True,\\n                       output_pixel_vals=True):\\n    \"\"\"\\n    Transform an array with one flattened image per row, into an array in\\n    which images are reshaped and layed out like tiles on a floor.\\n\\n    This function is useful for visualizing datasets whose rows are images,\\n    and also columns of matrices for transforming those rows\\n    (such as the first layer of a neural net).\\n\\n    :type X: a 2-D ndarray or a tuple of 4 channels, elements of which can\\n    be 2-D ndarrays or None;\\n    :param X: a 2-D array in which every row is a flattened image.\\n\\n    :type img_shape: tuple; (height, width)\\n    :param img_shape: the original shape of each image\\n\\n    :type tile_shape: tuple; (rows, cols)\\n    :param tile_shape: the number of images to tile (rows, cols)\\n\\n    :param output_pixel_vals: if output should be pixel values (i.e. int8\\n    values) or floats\\n\\n    :param scale_rows_to_unit_interval: if the values need to be scaled before\\n    being plotted to [0,1] or not\\n\\n\\n    :returns: array suitable for viewing as an image.\\n    (See:`Image.fromarray`.)\\n    :rtype: a 2-d array with same dtype as X.\\n\\n    \"\"\"\\n\\n    assert len(img_shape) == 2\\n    assert len(tile_shape) == 2\\n    assert len(tile_spacing) == 2\\n\\n    # The expression below can be re-written in a more C style as\\n    # follows :\\n    #\\n    # out_shape    = [0,0]\\n    # out_shape[0] = (img_shape[0]+tile_spacing[0])*tile_shape[0] -\\n    #                tile_spacing[0]\\n    # out_shape[1] = (img_shape[1]+tile_spacing[1])*tile_shape[1] -\\n    #                tile_spacing[1]\\n    out_shape = [\\n        (ishp + tsp) * tshp - tsp\\n        for ishp, tshp, tsp in zip(img_shape, tile_shape, tile_spacing)\\n    ]\\n\\n    if isinstance(X, tuple):\\n        assert len(X) == 4\\n        # Create an output numpy ndarray to store the image\\n        if output_pixel_vals:\\n            out_array = numpy.zeros((out_shape[0], out_shape[1], 4),\\n                                    dtype=\\'uint8\\')\\n        else:\\n            out_array = numpy.zeros((out_shape[0], out_shape[1], 4),\\n                                    dtype=X.dtype)\\n\\n        #colors default to 0, alpha defaults to 1 (opaque)\\n        if output_pixel_vals:\\n            channel_defaults = [0, 0, 0, 255]\\n        else:\\n            channel_defaults = [0., 0., 0., 1.]\\n\\n        for i in range(4):\\n            if X[i] is None:\\n                # if channel is None, fill it with zeros of the correct\\n                # dtype\\n                dt = out_array.dtype\\n                if output_pixel_vals:\\n                    dt = \\'uint8\\'\\n                out_array[:, :, i] = numpy.zeros(\\n                    out_shape,\\n                    dtype=dt\\n                ) + channel_defaults[i]\\n            else:\\n                # use a recurrent call to compute the channel and store it\\n                # in the output\\n                out_array[:, :, i] = tile_raster_images(\\n                    X[i], img_shape, tile_shape, tile_spacing,\\n                    scale_rows_to_unit_interval, output_pixel_vals)\\n        return out_array\\n\\n    else:\\n        # if we are dealing with only one channel\\n        H, W = img_shape\\n        Hs, Ws = tile_spacing\\n\\n        # generate a matrix to store the output\\n        dt = X.dtype\\n        if output_pixel_vals:\\n            dt = \\'uint8\\'\\n        out_array = numpy.zeros(out_shape, dtype=dt)\\n\\n        for tile_row in range(tile_shape[0]):\\n            for tile_col in range(tile_shape[1]):\\n                if tile_row * tile_shape[1] + tile_col < X.shape[0]:\\n                    this_x = X[tile_row * tile_shape[1] + tile_col]\\n                    if scale_rows_to_unit_interval:\\n                        # if we should scale values to be between 0 and 1\\n                        # do this by calling the `scale_to_unit_interval`\\n                        # function\\n                        this_img = scale_to_unit_interval(\\n                            this_x.reshape(img_shape))\\n                    else:\\n                        this_img = this_x.reshape(img_shape)\\n                    # add the slice to the corresponding position in the\\n                    # output array\\n                    c = 1\\n                    if output_pixel_vals:\\n                        c = 255\\n                    out_array[\\n                        tile_row * (H + Hs): tile_row * (H + Hs) + H,\\n                        tile_col * (W + Ws): tile_col * (W + Ws) + W\\n                    ] = this_img * c\\n        return out_array\\n'\n"
     ]
    }
   ],
   "source": [
    "import urllib.request\n",
    "with urllib.request.urlopen('http://deeplearning.net/tutorial/code/utils.py') as url:\n",
    "    s = url.read()\n",
    "#I'm guessing this would output the html source code?\n",
    "print(s)"
   ]
  },
  {
   "cell_type": "code",
   "execution_count": 24,
   "metadata": {},
   "outputs": [
    {
     "ename": "ModuleNotFoundError",
     "evalue": "No module named '_imaging'",
     "output_type": "error",
     "traceback": [
      "\u001b[1;31m---------------------------------------------------------------------------\u001b[0m",
      "\u001b[1;31mModuleNotFoundError\u001b[0m                       Traceback (most recent call last)",
      "\u001b[1;32m<ipython-input-24-fdc81526cbda>\u001b[0m in \u001b[0;36m<module>\u001b[1;34m()\u001b[0m\n\u001b[0;32m      4\u001b[0m \u001b[1;32mimport\u001b[0m \u001b[0mmath\u001b[0m\u001b[1;33m\u001b[0m\u001b[0m\n\u001b[0;32m      5\u001b[0m \u001b[1;32mfrom\u001b[0m \u001b[0mPIL\u001b[0m \u001b[1;32mimport\u001b[0m \u001b[0mImage\u001b[0m\u001b[1;33m\u001b[0m\u001b[0m\n\u001b[1;32m----> 6\u001b[1;33m \u001b[1;32mimport\u001b[0m \u001b[0m_imaging\u001b[0m\u001b[1;33m\u001b[0m\u001b[0m\n\u001b[0m\u001b[0;32m      7\u001b[0m \u001b[1;32mfrom\u001b[0m \u001b[0mutils\u001b[0m \u001b[1;32mimport\u001b[0m \u001b[0mtile_raster_images\u001b[0m\u001b[1;33m\u001b[0m\u001b[0m\n",
      "\u001b[1;31mModuleNotFoundError\u001b[0m: No module named '_imaging'"
     ]
    }
   ],
   "source": [
    "import tensorflow as tf\n",
    "import numpy as np\n",
    "import pandas as pd\n",
    "import math\n",
    "from PIL import Image\n",
    "import _imaging\n",
    "from utils import tile_raster_images"
   ]
  },
  {
   "cell_type": "code",
   "execution_count": null,
   "metadata": {
    "collapsed": true
   },
   "outputs": [],
   "source": []
  }
 ],
 "metadata": {
  "kernelspec": {
   "display_name": "Python 3",
   "language": "python",
   "name": "python3"
  },
  "language_info": {
   "codemirror_mode": {
    "name": "ipython",
    "version": 3
   },
   "file_extension": ".py",
   "mimetype": "text/x-python",
   "name": "python",
   "nbconvert_exporter": "python",
   "pygments_lexer": "ipython3",
   "version": "3.6.1"
  }
 },
 "nbformat": 4,
 "nbformat_minor": 2
}
