{
 "cells": [
  {
   "cell_type": "code",
   "execution_count": 3,
   "metadata": {
    "collapsed": true
   },
   "outputs": [],
   "source": [
    "%matplotlib inline"
   ]
  },
  {
   "cell_type": "code",
   "execution_count": 5,
   "metadata": {
    "collapsed": true
   },
   "outputs": [],
   "source": [
    "from __future__ import print_function\n",
    "from __future__ import division\n",
    "from __future__ import absolute_import"
   ]
  },
  {
   "cell_type": "code",
   "execution_count": 15,
   "metadata": {},
   "outputs": [],
   "source": [
    "import numpy as np\n",
    "import matplotlib.pyplot as plt\n",
    "import tensorflow as tf\n",
    "flags = tf.app.flags\n",
    "FLAGS = flags.FLAGS \n",
    "\n",
    "tf.logging.set_verbosity(tf.logging.INFO)\n",
    "# our application logic wil be added here\n",
    "if __name__ == \"main\":\n",
    "    tf.app.run()   "
   ]
  },
  {
   "cell_type": "code",
   "execution_count": 25,
   "metadata": {},
   "outputs": [],
   "source": [
    "def cnn_model_fn(features, labels, mode):\n",
    "    # input layer \n",
    "    input_layer = tf.reshape(features[\"X\"], [-1, 28, 28, 1])\n",
    "    \n",
    "    # convoluation layer 1\n",
    "    conv1 = tf.layers.conv2d(inputs = input_layer,\n",
    "                            filters = 32,\n",
    "                            kernel_size = [5,5],\n",
    "                            padding = \"same\",\n",
    "                            activation = tf.nn.relu)\n",
    "    # Pooling layers 1\n",
    "    pool1 = tf.layers.max_pooling2d(inputs= conv1, pool_size= [2,2], strides= 2)\n",
    "    \n",
    "    # convoluation layers 2\n",
    "    conv2 = tf.layers.conv2d(inputs = pool1, \n",
    "                            filters = 64,\n",
    "                            kernel_size = [5,5],\n",
    "                            padding = \"same\",\n",
    "                            activation = tf.nn.relu)\n",
    "    ## pooling layer 2\n",
    "    pool2 = tf.layers.max_pooling2d(inputs= conv2, pool_size= [2,2], strides= 2)\n",
    "    \n",
    "    # adding Dense layer\n",
    "    pool2_flat = tf.reshape(pool2, [-1, 7*7*64])\n",
    "    dense = tf.layers.dense(inputs = pool2_flat, units = 1024, activation= tf.nn.relu)\n",
    "    dropout = tf.layer.dropout(inputs = dense, rate = 0.4, training=mode == tf.estimator.ModeKeys.Train)\n",
    "    \n",
    "    #logit layer\n",
    "    logits = tf.layers.dense(inputs = dropout, units = 10)\n",
    "    \n",
    "    predictions = {\n",
    "      # Generate predictions (for PREDICT and EVAL mode)\n",
    "      \"classes\": tf.argmax(input=logits, axis=1),\n",
    "      # Add `softmax_tensor` to the graph. It is used for PREDICT and by the\n",
    "      # `logging_hook`.\n",
    "      \"probabilities\": tf.nn.softmax(logits, name=\"softmax_tensor\")\n",
    "  }\n",
    "    if mode == tf.estimator.ModeKeys.PREDICT:\n",
    "            return tf.estimator.EstimatorSpec(mode = mode, predictions = predictions)\n",
    "        # calculate loss (for both train and eval modes)\n",
    "    loss = tf.losses.sparse_softmax_cross_entropy(labels = labels, logits = logits)\n",
    "        \n",
    "        # configure the training op (for Train mode)\n",
    "    if mode == tf.estimator.ModeKeys.TRAIN:\n",
    "            optimizer = tf.train.GradientDescentOptimizer(learning_rate = 0.001)\n",
    "            train_op = optimizer.minimize(loss = loss, global_step = tf.get_global_step())\n",
    "    return tf.estimator.EstimatorSpec(mode = mode, loss = loss, train_op = train_op)\n",
    "\n",
    "\n",
    "    ## Addding the accuracy evaluation metrics (For EVAL mode)\n",
    "    eval_metrics_ops = {\n",
    "        \"accuracy\": tf.metrics.accuracy(\n",
    "        labels = labels, predictions = predictions[\"classes\"])}\n",
    "    return tf.estimator.EstimatorSpec(mode = mode, loss = loss, eval_metrics_ops = eval_metrics_ops)"
   ]
  },
  {
   "cell_type": "code",
   "execution_count": 49,
   "metadata": {},
   "outputs": [],
   "source": [
    "## training and evaluating the mnist classifier \n",
    "## load the train and test data \n",
    "\n",
    "def main(unused_arg):\n",
    "    # load the training and eval data \n",
    "    mnist = tf.contrib.learn.datasets.load_dataset(\"mnist\")\n",
    "    train_data = mnist.train.images # Return np.array\n",
    "    train_labels = np.array(mnist.train.labels, dtype = np.int32)\n",
    "    eval_data = mnist.test.images\n",
    "    eval_labels = np.array(mnist.train.labels, dtype = np.int32)\n",
    "    \n",
    "    # create the estimator \n",
    "    mnist_classifier = tf.estimator.Estimator(\n",
    "    model_fn = cnn_model_fn, model_dir = \"/tmp/mnist_convnet_model\")\n",
    "\n",
    "    # setup the  logging for predictions \n",
    "    tensors_to_log = {\"probabilities\": \"softmax_tensorflow\"}\n",
    "    logging_hook = tf.train.LoggingTensorHook(\n",
    "    tensors = tensors_to_log, every_n_iter = 50)\n",
    "\n",
    "    ## training the model\n",
    "    train_input_fn = tf.estimator.inputs.numpy_input_fn(\n",
    "        x={\"x\": train_data},\n",
    "        y= train_labels,\n",
    "        batch_size=100,\n",
    "        num_epochs=None,\n",
    "        shuffle=True)\n",
    "    mnist_classifier.train(\n",
    "        input_fn=train_input_fn,\n",
    "        steps=20000,\n",
    "        hooks=[logging_hook])\n",
    "    ## Evaluate the Model and print results \n",
    "    eval_input_fn = tf.estimator.inputs.numpy_input_fn(\n",
    "        x = {\"x\": eval_data},\n",
    "        y = eval_labels,\n",
    "        num_epochs = 1, shuffle = False)\n",
    "    eval_results = mnist_classifier.evaluate(input_fn = eval_input_fn)\n",
    "    print(eval_results)"
   ]
  },
  {
   "cell_type": "code",
   "execution_count": null,
   "metadata": {},
   "outputs": [],
   "source": []
  },
  {
   "cell_type": "code",
   "execution_count": null,
   "metadata": {
    "collapsed": true
   },
   "outputs": [],
   "source": []
  },
  {
   "cell_type": "code",
   "execution_count": null,
   "metadata": {},
   "outputs": [],
   "source": []
  },
  {
   "cell_type": "code",
   "execution_count": null,
   "metadata": {
    "collapsed": true
   },
   "outputs": [],
   "source": []
  }
 ],
 "metadata": {
  "kernelspec": {
   "display_name": "Python 3",
   "language": "python",
   "name": "python3"
  },
  "language_info": {
   "codemirror_mode": {
    "name": "ipython",
    "version": 3
   },
   "file_extension": ".py",
   "mimetype": "text/x-python",
   "name": "python",
   "nbconvert_exporter": "python",
   "pygments_lexer": "ipython3",
   "version": "3.6.1"
  }
 },
 "nbformat": 4,
 "nbformat_minor": 2
}
