{
 "cells": [
  {
   "cell_type": "code",
   "execution_count": 1,
   "metadata": {
    "collapsed": true
   },
   "outputs": [],
   "source": [
    "import numpy as np\n",
    "\n",
    "## creating the image where h is the image \n",
    "h = [2,1,0]\n",
    "\n",
    "## creating the keneral where x is the keneral\n",
    "x = [3,4,5]"
   ]
  },
  {
   "cell_type": "code",
   "execution_count": 3,
   "metadata": {},
   "outputs": [
    {
     "name": "stdout",
     "output_type": "stream",
     "text": [
      "[ 6 11 14  5  0]\n"
     ]
    }
   ],
   "source": [
    "y = np.convolve(x,h)\n",
    "print(y)"
   ]
  },
  {
   "cell_type": "code",
   "execution_count": 4,
   "metadata": {},
   "outputs": [
    {
     "name": "stdout",
     "output_type": "stream",
     "text": [
      "Compare with the following values from Python: y[0] = 6 ; y[1] = 11; y[2] = 14; y[3] = 5; y[4] = 0\n"
     ]
    }
   ],
   "source": [
    "print(\"Compare with the following values from Python: y[0] = {0} ; y[1] = {1}; y[2] = {2}; y[3] = {3}; y[4] = {4}\".format(y[0],y[1],y[2],y[3],y[4])) "
   ]
  },
  {
   "cell_type": "markdown",
   "metadata": {},
   "source": [
    "3 ways to apply the keranel matrix, with padding(full), with paddin(same) and without padding(valid)\n"
   ]
  },
  {
   "cell_type": "markdown",
   "metadata": {},
   "source": [
    "# 1) Visually understanding the operation with padding (full)"
   ]
  },
  {
   "cell_type": "markdown",
   "metadata": {},
   "source": [
    "Lets think of the kernel as a sliding window. We have to come with the solution of padding zeros on the input array. Ths is a very famous implementation and will be easier to show how it works with a simple example, consider this case:\n",
    "\n"
   ]
  },
  {
   "cell_type": "markdown",
   "metadata": {},
   "source": [
    "x[i] = [6,2]\n",
    "h[i] = [1,2,5,4]"
   ]
  },
  {
   "cell_type": "code",
   "execution_count": 7,
   "metadata": {},
   "outputs": [],
   "source": [
    "x = [6,2]\n",
    "h = [1,2,5,4]"
   ]
  },
  {
   "cell_type": "code",
   "execution_count": 12,
   "metadata": {},
   "outputs": [
    {
     "data": {
      "text/plain": [
       "array([ 6, 14, 34, 34,  8])"
      ]
     },
     "execution_count": 12,
     "metadata": {},
     "output_type": "execute_result"
    }
   ],
   "source": [
    "import numpy as np\n",
    "y = np.convolve(x, h, \"full\") #now, because of the zero padding, the final dimension of the array is bigger\n",
    "y"
   ]
  },
  {
   "cell_type": "markdown",
   "metadata": {},
   "source": [
    "# 2) Visually understanding the operation with \"same\""
   ]
  },
  {
   "cell_type": "markdown",
   "metadata": {},
   "source": [
    "In this approach, we just add the zero to left (and top of the matrix in 2D). That is, only the first 4 steps of \"full\" method:"
   ]
  },
  {
   "cell_type": "code",
   "execution_count": 14,
   "metadata": {},
   "outputs": [
    {
     "data": {
      "text/plain": [
       "array([ 6, 14, 34, 34])"
      ]
     },
     "execution_count": 14,
     "metadata": {},
     "output_type": "execute_result"
    }
   ],
   "source": [
    "y = np.convolve(x, h, \"same\") #it is same as zero padding, but withgenerates same \n",
    "y"
   ]
  },
  {
   "cell_type": "markdown",
   "metadata": {},
   "source": [
    "# 3) Visually understanding the operation with no padding (valid)"
   ]
  },
  {
   "cell_type": "markdown",
   "metadata": {},
   "source": [
    "In the last case we only applied the kernel when we had a compatible position on the h array, in some cases you want a dimensionality reduction. For this purpose, we simple ignore the steps tha would need padding:\n",
    "\n",
    "x[i] = [6 2] h[i] = [1 2 5 4]\n",
    "\n",
    "You have to invert the filter x, otherwise the operation would be cross-correlation. First step, (now without zero padding):"
   ]
  },
  {
   "cell_type": "code",
   "execution_count": 18,
   "metadata": {},
   "outputs": [
    {
     "data": {
      "text/plain": [
       "array([14, 34, 34])"
      ]
     },
     "execution_count": 18,
     "metadata": {},
     "output_type": "execute_result"
    }
   ],
   "source": [
    "y = np.convolve(x, h, \"valid\") #we will understand why we used the argument valid in the next example\n",
    "y"
   ]
  },
  {
   "cell_type": "markdown",
   "metadata": {},
   "source": [
    "# Convolution: 2D operation with Python (Numpy/Scipy)"
   ]
  },
  {
   "cell_type": "code",
   "execution_count": 22,
   "metadata": {},
   "outputs": [
    {
     "name": "stdout",
     "output_type": "stream",
     "text": [
      "without zero padding \n",
      "\n",
      "[[-255  248    4    3]\n",
      " [-212  -28  236    4]\n",
      " [-218    2  -14  230]] \n",
      "\n",
      "with zero padding \n",
      "\n",
      "[[-255  248    4    3]\n",
      " [-212  -28  236    4]\n",
      " [-218    2  -14  230]]\n"
     ]
    }
   ],
   "source": [
    "from scipy import signal as sg\n",
    "I = [[255,7,3],\n",
    "    [212,240,4],\n",
    "    [218,216,230]]\n",
    "g = [[-1,1]]\n",
    "print(\"without zero padding \\n\")\n",
    "print('{0} \\n'.format(sg.convolve(I, g), \"valid\"))\n",
    "# The 'valid' argument states that the output consists only of those elements \n",
    "# that do not rely on the zero-padding.\n",
    "print(\"with zero padding \\n\")\n",
    "print(sg.convolve(I,g))"
   ]
  },
  {
   "cell_type": "code",
   "execution_count": 23,
   "metadata": {},
   "outputs": [
    {
     "name": "stdout",
     "output_type": "stream",
     "text": [
      "with zero padding \n",
      "\n",
      "[0] \n",
      "\n",
      "with padding \n",
      "\n",
      "[[-255  248    4    3]\n",
      " [-212  -28  236    4]\n",
      " [-218    2  -14  230]]\n"
     ]
    }
   ],
   "source": [
    "print(\"with zero padding \\n\")\n",
    "print(\"[0] \\n\".format(sg.convolve(I, g, 'full')))\n",
    "print(\"with padding \\n\")\n",
    "print(sg.convolve(I,g))"
   ]
  },
  {
   "cell_type": "code",
   "execution_count": 24,
   "metadata": {},
   "outputs": [
    {
     "name": "stdout",
     "output_type": "stream",
     "text": [
      "with zero padding \n",
      "\n",
      "[0] \n",
      "\n",
      "with padding \n",
      "\n",
      "[[-255  248    4    3]\n",
      " [-212  -28  236    4]\n",
      " [-218    2  -14  230]]\n"
     ]
    }
   ],
   "source": [
    "print(\"with zero padding \\n\")\n",
    "print(\"[0] \\n\".format(sg.convolve(I, g, 'same')))\n",
    "print(\"with padding \\n\")\n",
    "print(sg.convolve(I,g))"
   ]
  },
  {
   "cell_type": "code",
   "execution_count": 26,
   "metadata": {},
   "outputs": [],
   "source": [
    "from scipy import signal as sg\n",
    "I = [[255,7,3],\n",
    "    [212,240,4],\n",
    "    [218,216,230]]\n",
    "g =[[-1,1],\n",
    "  [2,3]]"
   ]
  },
  {
   "cell_type": "code",
   "execution_count": 30,
   "metadata": {},
   "outputs": [
    {
     "name": "stdout",
     "output_type": "stream",
     "text": [
      "with zero padding \n",
      "\n",
      "[[-255  248    4    3]\n",
      " [ 298  751  263   13]\n",
      " [ 206 1118  714  242]\n",
      " [ 436 1086 1108  690]] \n",
      "\n",
      "without zero padding \n",
      "\n",
      "[[-255  248    4]\n",
      " [ 298  751  263]\n",
      " [ 206 1118  714]] \n",
      "\n",
      "without zero padding \n",
      "\n",
      "[[ 751  263]\n",
      " [1118  714]]\n"
     ]
    }
   ],
   "source": [
    "# The output is the full discrete linear convolution of the inputs. \n",
    "# It will use zero to complete the input matrix\n",
    "\n",
    "print('with zero padding \\n')\n",
    "print('{0} \\n'.format(sg.convolve(I, g, 'full')))\n",
    "\n",
    "# The output is the full discrete linear convolution of the inputs. \n",
    "# It will use zero to complete the input matrix\n",
    "print('without zero padding \\n')\n",
    "print('{0} \\n'. format(sg.convolve(I, g, 'same')))\n",
    "\n",
    "# The 'valid' argument states that the output consists only of those elements \n",
    "#that do not rely on the zero-padding.\n",
    "print('without zero padding \\n')\n",
    "print (sg.convolve( I, g, 'valid'))"
   ]
  },
  {
   "cell_type": "markdown",
   "metadata": {},
   "source": [
    "# Coding with Tensorflow "
   ]
  },
  {
   "cell_type": "markdown",
   "metadata": {},
   "source": [
    "Numpy is great because it has high optmized matrix operations implemented in a backend using C/C++. However, if our goal is to work with DeepLearning, we need much more. TensorFlow does the same work, but instead of returning to Python everytime, it creates all the operations in the form of graphs and execute them once with the highly optimized backend.\n",
    "\n",
    "Suppose that you have two tensors:\n",
    "\n",
    "3x3 filter (4D tensor = [3,3,1,1] = [width, height, channels, number of filters])\n",
    "10x10 image (4D tensor = [1,10,10,1] = [batch size, width, height, number of channels]\n",
    "The output size for zero padding 'SAME' mode will be:\n",
    "\n",
    "the same as input = 10x10\n",
    "The output size without zero padding 'VALID' mode:\n",
    "\n",
    "input size - kernel dimension +1 = 10 -3 + 1 = 8 = 8x8"
   ]
  },
  {
   "cell_type": "code",
   "execution_count": 31,
   "metadata": {
    "collapsed": true
   },
   "outputs": [],
   "source": [
    "import tensorflow as tf"
   ]
  },
  {
   "cell_type": "code",
   "execution_count": 32,
   "metadata": {
    "collapsed": true
   },
   "outputs": [],
   "source": [
    "## now build the graph\n",
    "input = tf.Variable(tf.random_normal([1,10,10,1]))\n",
    "filter = tf.Variable(tf.random_normal([3,3,1,1]))\n",
    "op = tf.nn.conv2d(input, filter, strides=[1,1,1,1], padding = 'VALID')\n",
    "op2 = tf.nn.conv2d(input, filter, strides=[1,1,1,1], padding = 'SAME')"
   ]
  },
  {
   "cell_type": "code",
   "execution_count": 38,
   "metadata": {},
   "outputs": [
    {
     "name": "stdout",
     "output_type": "stream",
     "text": [
      "Input \n",
      "\n",
      "[[[[-1.38936436]\n",
      "   [-0.00345891]\n",
      "   [-1.09597671]\n",
      "   [-1.77963614]\n",
      "   [ 1.08780801]\n",
      "   [-1.49857414]\n",
      "   [ 2.1747942 ]\n",
      "   [ 0.19542922]\n",
      "   [ 1.04823709]\n",
      "   [-0.17813747]]\n",
      "\n",
      "  [[-1.43401778]\n",
      "   [-2.04771852]\n",
      "   [ 0.24121429]\n",
      "   [ 1.23904002]\n",
      "   [-0.34568408]\n",
      "   [-1.79317725]\n",
      "   [-0.46358258]\n",
      "   [ 0.36715981]\n",
      "   [-1.37458265]\n",
      "   [ 1.02449059]]\n",
      "\n",
      "  [[ 0.77515209]\n",
      "   [-1.00133491]\n",
      "   [ 0.10918215]\n",
      "   [-1.51642907]\n",
      "   [-0.83707547]\n",
      "   [ 1.77123642]\n",
      "   [ 0.3847937 ]\n",
      "   [-1.01701093]\n",
      "   [ 2.03626585]\n",
      "   [ 1.26673007]]\n",
      "\n",
      "  [[ 0.05478265]\n",
      "   [-0.49241954]\n",
      "   [ 1.39341569]\n",
      "   [-0.03377312]\n",
      "   [ 0.46627158]\n",
      "   [-1.62419963]\n",
      "   [ 0.4087334 ]\n",
      "   [ 0.76176333]\n",
      "   [-0.57188118]\n",
      "   [ 0.44882923]]\n",
      "\n",
      "  [[-0.68774509]\n",
      "   [-0.26597512]\n",
      "   [ 1.8318578 ]\n",
      "   [-0.69608659]\n",
      "   [-1.07974589]\n",
      "   [-0.68666738]\n",
      "   [-0.69825584]\n",
      "   [ 1.0078733 ]\n",
      "   [-0.88290262]\n",
      "   [-0.55823547]]\n",
      "\n",
      "  [[ 0.48838812]\n",
      "   [ 1.99886167]\n",
      "   [-0.46106985]\n",
      "   [ 1.78463745]\n",
      "   [-0.72148538]\n",
      "   [ 1.05484653]\n",
      "   [ 0.27525723]\n",
      "   [ 3.03069854]\n",
      "   [-1.39048862]\n",
      "   [-1.49873841]]\n",
      "\n",
      "  [[-0.39785028]\n",
      "   [-0.26349345]\n",
      "   [-1.88588119]\n",
      "   [-0.93337327]\n",
      "   [ 0.9803192 ]\n",
      "   [-0.33139536]\n",
      "   [ 0.8630355 ]\n",
      "   [-0.79761624]\n",
      "   [-0.12981057]\n",
      "   [ 0.43651187]]\n",
      "\n",
      "  [[-0.18223697]\n",
      "   [-0.6324985 ]\n",
      "   [ 0.54165751]\n",
      "   [ 0.63516068]\n",
      "   [ 1.17783237]\n",
      "   [-0.83643025]\n",
      "   [-0.06545834]\n",
      "   [-0.63131869]\n",
      "   [-0.79479212]\n",
      "   [-0.09127603]]\n",
      "\n",
      "  [[-0.86870742]\n",
      "   [-1.63362455]\n",
      "   [-0.8821485 ]\n",
      "   [-0.53782547]\n",
      "   [ 0.20223212]\n",
      "   [ 0.10440584]\n",
      "   [-0.54730922]\n",
      "   [ 0.23816869]\n",
      "   [ 1.33224869]\n",
      "   [-1.80522454]]\n",
      "\n",
      "  [[-0.37625518]\n",
      "   [ 1.21535563]\n",
      "   [-0.97750926]\n",
      "   [-0.51593906]\n",
      "   [-0.43770385]\n",
      "   [-1.84768844]\n",
      "   [-1.62666214]\n",
      "   [-1.91229129]\n",
      "   [-1.69700921]\n",
      "   [ 0.05628493]]]] \n",
      "\n",
      "Filter/Kernel \n",
      "\n",
      "[[[[-0.67553413]]\n",
      "\n",
      "  [[ 0.07275698]]\n",
      "\n",
      "  [[ 0.28597471]]]\n",
      "\n",
      "\n",
      " [[[ 0.89266616]]\n",
      "\n",
      "  [[ 0.76644754]]\n",
      "\n",
      "  [[ 1.56841683]]]\n",
      "\n",
      "\n",
      " [[[-0.84107733]]\n",
      "\n",
      "  [[ 1.31068778]]\n",
      "\n",
      "  [[ 0.75267911]]]] \n",
      "\n",
      "Result/Feature Map with valid positions \n",
      "\n",
      "[[[[-3.72857475]\n",
      "   [-0.4421345 ]\n",
      "   [-1.16466427]\n",
      "   [ 0.39290941]\n",
      "   [ 0.68321496]\n",
      "   [-1.90458906]\n",
      "   [-3.56746387]\n",
      "   [ 5.25207329]]\n",
      "\n",
      "  [[ 1.34175801]\n",
      "   [ 0.78169501]\n",
      "   [-3.41462374]\n",
      "   [-1.17512941]\n",
      "   [-1.02901363]\n",
      "   [ 4.03873491]\n",
      "   [ 2.92871833]\n",
      "   [ 1.53210425]]\n",
      "\n",
      "  [[ 2.90031052]\n",
      "   [ 2.9269321 ]\n",
      "   [-1.73997998]\n",
      "   [-2.09675932]\n",
      "   [ 0.09939021]\n",
      "   [-0.98025638]\n",
      "   [ 1.54390264]\n",
      "   [-0.28201553]]\n",
      "\n",
      "  [[ 4.24305439]\n",
      "   [-0.44304597]\n",
      "   [ 0.78166771]\n",
      "   [-4.58636236]\n",
      "   [-0.70499051]\n",
      "   [ 3.53212214]\n",
      "   [ 1.07437515]\n",
      "   [-6.580019  ]]\n",
      "\n",
      "  [[ 0.78375101]\n",
      "   [ 1.39116454]\n",
      "   [-0.6715709 ]\n",
      "   [ 4.71034241]\n",
      "   [ 0.46662754]\n",
      "   [ 7.41683531]\n",
      "   [-1.18875492]\n",
      "   [-0.78644329]]\n",
      "\n",
      "  [[-4.09933376]\n",
      "   [-2.29804707]\n",
      "   [ 0.63714314]\n",
      "   [-1.1780231 ]\n",
      "   [ 0.48133582]\n",
      "   [-0.56867695]\n",
      "   [-1.7782408 ]\n",
      "   [-3.28341269]]\n",
      "\n",
      "  [[-2.16212893]\n",
      "   [ 0.4335787 ]\n",
      "   [ 4.49333286]\n",
      "   [ 1.56094182]\n",
      "   [-0.57707644]\n",
      "   [-2.35433197]\n",
      "   [-0.6917851 ]\n",
      "   [-0.47458935]]\n",
      "\n",
      "  [[-2.00548005]\n",
      "   [-5.02136707]\n",
      "   [-1.04888511]\n",
      "   [-2.27438641]\n",
      "   [-4.75105762]\n",
      "   [-1.59034204]\n",
      "   [-0.86107481]\n",
      "   [-1.82859254]]]]\n",
      "\n",
      "\n",
      "Result/Feature Map with padding \n",
      "\n",
      "[[[[-4.49112463]\n",
      "   [-4.25808048]\n",
      "   [-0.66326189]\n",
      "   [ 0.52472281]\n",
      "   [-5.95016146]\n",
      "   [ 0.8249774 ]\n",
      "   [ 1.81259596]\n",
      "   [ 3.57174492]\n",
      "   [-0.64086783]\n",
      "   [ 3.29811025]]\n",
      "\n",
      "  [[-4.15055227]\n",
      "   [-3.72857475]\n",
      "   [-0.4421345 ]\n",
      "   [-1.16466427]\n",
      "   [ 0.39290941]\n",
      "   [ 0.68321496]\n",
      "   [-1.90458906]\n",
      "   [-3.56746387]\n",
      "   [ 5.25207329]\n",
      "   [-1.21527529]]\n",
      "\n",
      "  [[-1.96515846]\n",
      "   [ 1.34175801]\n",
      "   [ 0.78169501]\n",
      "   [-3.41462374]\n",
      "   [-1.17512941]\n",
      "   [-1.02901363]\n",
      "   [ 4.03873491]\n",
      "   [ 2.92871833]\n",
      "   [ 1.53210425]\n",
      "   [ 4.86097527]]\n",
      "\n",
      "  [[-2.06190276]\n",
      "   [ 2.90031052]\n",
      "   [ 2.9269321 ]\n",
      "   [-1.73997998]\n",
      "   [-2.09675932]\n",
      "   [ 0.09939021]\n",
      "   [-0.98025638]\n",
      "   [ 1.54390264]\n",
      "   [-0.28201553]\n",
      "   [-1.43898165]]\n",
      "\n",
      "  [[ 1.06351161]\n",
      "   [ 4.24305439]\n",
      "   [-0.44304597]\n",
      "   [ 0.78166771]\n",
      "   [-4.58636236]\n",
      "   [-0.70499051]\n",
      "   [ 3.53212214]\n",
      "   [ 1.07437515]\n",
      "   [-6.580019  ]\n",
      "   [-1.59188437]]\n",
      "\n",
      "  [[ 2.66348815]\n",
      "   [ 0.78375101]\n",
      "   [ 1.39116454]\n",
      "   [-0.6715709 ]\n",
      "   [ 4.71034241]\n",
      "   [ 0.46662754]\n",
      "   [ 7.41683531]\n",
      "   [-1.18875492]\n",
      "   [-0.78644329]\n",
      "   [-1.15281963]]\n",
      "\n",
      "  [[-0.82596564]\n",
      "   [-4.09933376]\n",
      "   [-2.29804707]\n",
      "   [ 0.63714314]\n",
      "   [-1.1780231 ]\n",
      "   [ 0.48133582]\n",
      "   [-0.56867695]\n",
      "   [-1.7782408 ]\n",
      "   [-3.28341269]\n",
      "   [ 1.59781206]]\n",
      "\n",
      "  [[-3.60419464]\n",
      "   [-2.16212893]\n",
      "   [ 0.4335787 ]\n",
      "   [ 4.49333286]\n",
      "   [ 1.56094182]\n",
      "   [-0.57707644]\n",
      "   [-2.35433197]\n",
      "   [-0.6917851 ]\n",
      "   [-0.47458935]\n",
      "   [-4.14660168]]\n",
      "\n",
      "  [[-3.00054097]\n",
      "   [-2.00548005]\n",
      "   [-5.02136707]\n",
      "   [-1.04888511]\n",
      "   [-2.27438641]\n",
      "   [-4.75105762]\n",
      "   [-1.59034204]\n",
      "   [-0.86107481]\n",
      "   [-1.82859254]\n",
      "   [ 1.83699965]]\n",
      "\n",
      "  [[ 1.08742452]\n",
      "   [-0.72179413]\n",
      "   [ 0.41207194]\n",
      "   [-1.33990765]\n",
      "   [-3.28609347]\n",
      "   [-4.64369869]\n",
      "   [-5.93763018]\n",
      "   [-4.81131077]\n",
      "   [-3.49963713]\n",
      "   [-2.50304532]]]]\n"
     ]
    }
   ],
   "source": [
    "## initializzation and session \n",
    "init = tf.global_variables_initializer()\n",
    "with tf.Session() as sess:\n",
    "    sess.run(init)\n",
    "    print(\"Input \\n\")\n",
    "    print('{0} \\n'.format(input.eval()))\n",
    "    print(\"Filter/Kernel \\n\")\n",
    "    print('{0} \\n'.format(filter.eval()))\n",
    "    print(\"Result/Feature Map with valid positions \\n\")\n",
    "    result = sess.run(op)\n",
    "    print(result)\n",
    "    print('\\n')\n",
    "    print(\"Result/Feature Map with padding \\n\")\n",
    "    result2 = sess.run(op2)\n",
    "    print(result2)"
   ]
  },
  {
   "cell_type": "markdown",
   "metadata": {},
   "source": [
    "# Convolution applied on images\n"
   ]
  },
  {
   "cell_type": "markdown",
   "metadata": {},
   "source": [
    "Upload your own image (drag and drop to this window) and type its name on the input field on the next cell (press shift + enter). The result of this pre-processing will be an image with only a greyscale channel.\n",
    "\n",
    "You can type bird.jpg to use a default image"
   ]
  },
  {
   "cell_type": "code",
   "execution_count": 43,
   "metadata": {},
   "outputs": [
    {
     "name": "stderr",
     "output_type": "stream",
     "text": [
      "'wget' is not recognized as an internal or external command,\n",
      "operable program or batch file.\n"
     ]
    }
   ],
   "source": [
    "## downloading the  standard image\n",
    "!wget --quiet https://ibm.box.com/shared/static/cn7yt7z10j8rx6um1v9seagpgmzzxnlz.jpg --output-document bird.jpg\n"
   ]
  },
  {
   "cell_type": "code",
   "execution_count": null,
   "metadata": {
    "collapsed": true
   },
   "outputs": [],
   "source": []
  }
 ],
 "metadata": {
  "kernelspec": {
   "display_name": "Python 3",
   "language": "python",
   "name": "python3"
  },
  "language_info": {
   "codemirror_mode": {
    "name": "ipython",
    "version": 3
   },
   "file_extension": ".py",
   "mimetype": "text/x-python",
   "name": "python",
   "nbconvert_exporter": "python",
   "pygments_lexer": "ipython3",
   "version": "3.6.1"
  }
 },
 "nbformat": 4,
 "nbformat_minor": 2
}
