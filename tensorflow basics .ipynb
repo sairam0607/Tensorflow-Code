{
 "cells": [
  {
   "cell_type": "code",
   "execution_count": 1,
   "metadata": {
    "collapsed": true
   },
   "outputs": [],
   "source": [
    "import tensorflow as tf"
   ]
  },
  {
   "cell_type": "code",
   "execution_count": 124,
   "metadata": {
    "collapsed": true
   },
   "outputs": [],
   "source": [
    "# for hide the warnings in python\n",
    "import warnings\n",
    "warnings.simplefilter(\"ignore\")"
   ]
  },
  {
   "cell_type": "markdown",
   "metadata": {},
   "source": [
    "Part 1 : Basics of tensorflow "
   ]
  },
  {
   "cell_type": "markdown",
   "metadata": {},
   "source": [
    "a. Graph in Tensorflow"
   ]
  },
  {
   "cell_type": "markdown",
   "metadata": {},
   "source": [
    "Graph in tensor flow\n",
    "Graph is the backbone of TensorFlow and every computation/operation/variables reside on the graph. \n",
    "Everything that happens in the code, resides on a default graph provided by TensorFlow. You can access this graph by:"
   ]
  },
  {
   "cell_type": "code",
   "execution_count": 6,
   "metadata": {},
   "outputs": [
    {
     "name": "stdout",
     "output_type": "stream",
     "text": [
      "<tensorflow.python.framework.ops.Graph object at 0x000001DBCB56C320>\n"
     ]
    },
    {
     "data": {
      "text/plain": [
       "[]"
      ]
     },
     "execution_count": 6,
     "metadata": {},
     "output_type": "execute_result"
    }
   ],
   "source": [
    "graph = tf.get_default_graph()\n",
    "print(graph)\n",
    "graph.get_operations()"
   ]
  },
  {
   "cell_type": "code",
   "execution_count": 12,
   "metadata": {},
   "outputs": [],
   "source": [
    "for op in graph.get_operations():\n",
    "    print(op.name)"
   ]
  },
  {
   "cell_type": "code",
   "execution_count": 15,
   "metadata": {},
   "outputs": [
    {
     "name": "stdout",
     "output_type": "stream",
     "text": [
      "<bound method Graph.get_operations of <tensorflow.python.framework.ops.Graph object at 0x000001DBCB56C320>>\n"
     ]
    },
    {
     "data": {
      "text/plain": [
       "[]"
      ]
     },
     "execution_count": 15,
     "metadata": {},
     "output_type": "execute_result"
    }
   ],
   "source": [
    "print(graph.get_operations)\n",
    "graph.get_operations()"
   ]
  },
  {
   "cell_type": "markdown",
   "metadata": {},
   "source": [
    "b. Tensorflow Session  "
   ]
  },
  {
   "cell_type": "markdown",
   "metadata": {},
   "source": [
    "A graph is used to define operations, but the operations are only run within a session. Graphs and sessions are created independently of each other.\n",
    "You can imagine graph to be similar to a blueprint, and a session to be similar to a construction site.Graph only defines the computations or builds the blueprint.\n",
    "However, there are no variables, no values unless we run the graph or part of the graph within a session."
   ]
  },
  {
   "cell_type": "code",
   "execution_count": 20,
   "metadata": {},
   "outputs": [],
   "source": [
    "## creating the session \n",
    "sess = tf.Session()\n",
    "b = 7\n",
    "d = 10\n",
    "c = 8\n",
    "a = b + d\n",
    "b = c + d\n",
    "sess.close()"
   ]
  },
  {
   "cell_type": "code",
   "execution_count": 22,
   "metadata": {},
   "outputs": [
    {
     "name": "stdout",
     "output_type": "stream",
     "text": [
      "17\n",
      "18\n"
     ]
    }
   ],
   "source": [
    "print(a)\n",
    "print(b)"
   ]
  },
  {
   "cell_type": "code",
   "execution_count": 33,
   "metadata": {},
   "outputs": [
    {
     "name": "stdout",
     "output_type": "stream",
     "text": [
      "21\n"
     ]
    }
   ],
   "source": [
    "# build the graph\n",
    "a = tf.constant(3)\n",
    "b = tf.constant(7)\n",
    "c = a * b\n",
    "\n",
    "## lunch the tensorflow session \n",
    "sess = tf.Session()\n",
    "print(sess.run(c))"
   ]
  },
  {
   "cell_type": "code",
   "execution_count": 45,
   "metadata": {},
   "outputs": [
    {
     "name": "stdout",
     "output_type": "stream",
     "text": [
      "Tensorflow\n",
      "Keras\n",
      "DeepLearning\n"
     ]
    }
   ],
   "source": [
    "sess = tf.Session()\n",
    "print('Tensorflow', )\n",
    "print('Keras',)\n",
    "print('DeepLearning',)\n",
    "sess.close()"
   ]
  },
  {
   "cell_type": "code",
   "execution_count": 63,
   "metadata": {},
   "outputs": [
    {
     "name": "stdout",
     "output_type": "stream",
     "text": [
      "2.505\n"
     ]
    }
   ],
   "source": [
    "##Whenever, you open a session, you need to remember to close it. Or you can use ‘with block’ like this.\n",
    "f = tf.constant(2.5050)\n",
    "## Advantage of with block is: session closes automatically at the end of the with block. \n",
    "#We use with block in most of our code and recommend you to do so too.\n",
    "\n",
    "with tf.Session() as sess:\n",
    "    print(sess.run(f))"
   ]
  },
  {
   "cell_type": "markdown",
   "metadata": {},
   "source": [
    "c. Tensors in TensorFlow"
   ]
  },
  {
   "cell_type": "markdown",
   "metadata": {},
   "source": [
    "TF holds data in Tensors which are similar to numPy multi-dimensional arrays(although they are different from numPy Arrays):\n",
    "constants: are constants whose value can’t be changed. You can declare a constant like this:"
   ]
  },
  {
   "cell_type": "code",
   "execution_count": 64,
   "metadata": {},
   "outputs": [
    {
     "name": "stdout",
     "output_type": "stream",
     "text": [
      "Tensor(\"Const_16:0\", shape=(), dtype=float32)\n"
     ]
    }
   ],
   "source": [
    "\n",
    "\n",
    "a = tf.constant(1.0)\n",
    "a\n",
    "print(a)"
   ]
  },
  {
   "cell_type": "code",
   "execution_count": 65,
   "metadata": {},
   "outputs": [
    {
     "name": "stdout",
     "output_type": "stream",
     "text": [
      "1.0\n"
     ]
    }
   ],
   "source": [
    "with tf.Session() as sess:\n",
    "    print(sess.run(a))"
   ]
  },
  {
   "cell_type": "markdown",
   "metadata": {},
   "source": [
    "varibales: it is similar to other languages it is assign the values to varibale like a = 7"
   ]
  },
  {
   "cell_type": "code",
   "execution_count": 70,
   "metadata": {},
   "outputs": [
    {
     "name": "stdout",
     "output_type": "stream",
     "text": [
      "<tf.Variable 'test_var_4:0' shape=() dtype=float32_ref>\n"
     ]
    }
   ],
   "source": [
    "\n",
    "b = tf.Variable(2.0, name = \"test_var\")\n",
    "print(b)"
   ]
  },
  {
   "cell_type": "code",
   "execution_count": 74,
   "metadata": {},
   "outputs": [],
   "source": [
    "## for tensor flow early version \n",
    "#init_op = tf.initialize_all_variables()\n",
    "#init_op = tf.global_variables_initializer()"
   ]
  },
  {
   "cell_type": "code",
   "execution_count": 75,
   "metadata": {},
   "outputs": [
    {
     "name": "stdout",
     "output_type": "stream",
     "text": [
      "2.0\n"
     ]
    }
   ],
   "source": [
    "with tf.Session() as sess:\n",
    "    sess.run(init_op)\n",
    "    print(sess.run(b))"
   ]
  },
  {
   "cell_type": "code",
   "execution_count": 76,
   "metadata": {},
   "outputs": [
    {
     "name": "stdout",
     "output_type": "stream",
     "text": [
      "Const\n",
      "Const_1\n",
      "Const_2\n",
      "Const_3\n",
      "mul\n",
      "Const_4\n",
      "Const_5\n",
      "mul_1\n",
      "Const_6\n",
      "Const_7\n",
      "Const_8\n",
      "Const_9\n",
      "mul_3\n",
      "Const_10\n",
      "Const_11\n",
      "Const_12\n",
      "Const_13\n",
      "Const_14\n",
      "Const_15\n",
      "Const_16\n",
      "test_var/initial_value\n",
      "test_var\n",
      "test_var/Assign\n",
      "test_var/read\n",
      "test_var_1/initial_value\n",
      "test_var_1\n",
      "test_var_1/Assign\n",
      "test_var_1/read\n",
      "test_var_2/initial_value\n",
      "test_var_2\n",
      "test_var_2/Assign\n",
      "test_var_2/read\n",
      "test_var_3/initial_value\n",
      "test_var_3\n",
      "test_var_3/Assign\n",
      "test_var_3/read\n",
      "test_var_4/initial_value\n",
      "test_var_4\n",
      "test_var_4/Assign\n",
      "test_var_4/read\n",
      "init\n",
      "init_1\n",
      "init_2\n"
     ]
    }
   ],
   "source": [
    "## print operation on graph \n",
    "graph = tf.get_default_graph()\n",
    "for op in graph.get_operations():\n",
    "    print(op.name)"
   ]
  },
  {
   "cell_type": "markdown",
   "metadata": {},
   "source": [
    "placeholder :are tensors which are waiting to be initialized/fed.Placeholders are used for training data \n",
    "which is only fed when the code is actually run inside a session. What is fed to Placeholder is called feed_dict. \n",
    "Feed_dict are key value pairs for holding data:"
   ]
  },
  {
   "cell_type": "code",
   "execution_count": 83,
   "metadata": {},
   "outputs": [
    {
     "name": "stdout",
     "output_type": "stream",
     "text": [
      "6.0\n"
     ]
    }
   ],
   "source": [
    "a = tf.placeholder(\"float\")\n",
    "b = tf.placeholder(\"float\")\n",
    "y = tf.multiply(a, b)\n",
    "   ##Earlier this used to be tf.mul which has changed with Tensorflow 1.0\n",
    " \n",
    " ##Typically we load feed_dict from somewhere else, \n",
    " ##may be reading from a training data folder. etc\n",
    " ##For simplicity, we have put values in feed_dict here\n",
    "feed_dict = {a:2, b:3}\n",
    "with tf.Session() as sess:\n",
    "    print(sess.run(y, feed_dict))"
   ]
  },
  {
   "cell_type": "markdown",
   "metadata": {},
   "source": [
    "d. Device in TesorFlow"
   ]
  },
  {
   "cell_type": "markdown",
   "metadata": {},
   "source": [
    "TensorFlow has very strong in-built capabilites to run your code on a gpu or a cpu or a cluster of gpu etc. It provides you options to select the device you want to run your code. However, this is not something that you need to worry about when you are just getting started. We shall write a separate tutorial on this later. So, here is the complete picture:"
   ]
  },
  {
   "cell_type": "code",
   "execution_count": 88,
   "metadata": {},
   "outputs": [],
   "source": [
    "filename_queue = tf.train.string_input_producer(\n",
    "    tf.train.match_filenames_once(\"./images/Tensorflow_Graph_0.jpg\"))\n",
    "image_reader = tf.WholeFileReader()"
   ]
  },
  {
   "cell_type": "markdown",
   "metadata": {},
   "source": [
    "Part 2 : Tensorflow tutorial with simple examples"
   ]
  },
  {
   "cell_type": "markdown",
   "metadata": {},
   "source": [
    "Create a random normal distribution\n",
    "Use random_normal to create random values from a normal distribution. In this example, w is a variable which is of size 784*10 with random values with standard deviation 0.01."
   ]
  },
  {
   "cell_type": "code",
   "execution_count": 103,
   "metadata": {},
   "outputs": [
    {
     "name": "stdout",
     "output_type": "stream",
     "text": [
      "<tf.Variable 'Variable_8:0' shape=(7840,) dtype=float32_ref>\n"
     ]
    }
   ],
   "source": [
    "w = tf.Variable(tf.random_normal([784*10], stddev = 0.01))\n",
    "## for the with in block is not work for the variables \n",
    "print(w)"
   ]
  },
  {
   "cell_type": "code",
   "execution_count": 104,
   "metadata": {},
   "outputs": [
    {
     "name": "stdout",
     "output_type": "stream",
     "text": [
      "Const\n",
      "Const_1\n",
      "Const_2\n",
      "Const_3\n",
      "mul\n",
      "Const_4\n",
      "Const_5\n",
      "mul_1\n",
      "Const_6\n",
      "Const_7\n",
      "Const_8\n",
      "Const_9\n",
      "mul_3\n",
      "Const_10\n",
      "Const_11\n",
      "Const_12\n",
      "Const_13\n",
      "Const_14\n",
      "Const_15\n",
      "Const_16\n",
      "test_var/initial_value\n",
      "test_var\n",
      "test_var/Assign\n",
      "test_var/read\n",
      "test_var_1/initial_value\n",
      "test_var_1\n",
      "test_var_1/Assign\n",
      "test_var_1/read\n",
      "test_var_2/initial_value\n",
      "test_var_2\n",
      "test_var_2/Assign\n",
      "test_var_2/read\n",
      "test_var_3/initial_value\n",
      "test_var_3\n",
      "test_var_3/Assign\n",
      "test_var_3/read\n",
      "test_var_4/initial_value\n",
      "test_var_4\n",
      "test_var_4/Assign\n",
      "test_var_4/read\n",
      "init\n",
      "init_1\n",
      "init_2\n",
      "Placeholder\n",
      "Placeholder_1\n",
      "Mul\n",
      "Placeholder_2\n",
      "Placeholder_3\n",
      "Mul_1\n",
      "Placeholder_4\n",
      "Placeholder_5\n",
      "Mul_2\n",
      "Placeholder_6\n",
      "Placeholder_7\n",
      "Mul_3\n",
      "Placeholder_8\n",
      "Placeholder_9\n",
      "Mul_4\n",
      "matching_filenames/MatchingFiles/pattern\n",
      "matching_filenames/MatchingFiles\n",
      "matching_filenames\n",
      "matching_filenames/Assign\n",
      "matching_filenames/read\n",
      "input_producer/Size\n",
      "input_producer/Greater/y\n",
      "input_producer/Greater\n",
      "input_producer/Assert/Const\n",
      "input_producer/Assert/Assert/data_0\n",
      "input_producer/Assert/Assert\n",
      "input_producer/Identity\n",
      "input_producer/RandomShuffle\n",
      "input_producer\n",
      "input_producer/input_producer_EnqueueMany\n",
      "input_producer/input_producer_Close\n",
      "input_producer/input_producer_Close_1\n",
      "input_producer/input_producer_Size\n",
      "input_producer/Cast\n",
      "input_producer/mul/y\n",
      "input_producer/mul\n",
      "input_producer/fraction_of_32_full/tags\n",
      "input_producer/fraction_of_32_full\n",
      "matching_filenames_1/MatchingFiles/pattern\n",
      "matching_filenames_1/MatchingFiles\n",
      "matching_filenames_1\n",
      "matching_filenames_1/Assign\n",
      "matching_filenames_1/read\n",
      "input_producer_1/Size\n",
      "input_producer_1/Greater/y\n",
      "input_producer_1/Greater\n",
      "input_producer_1/Assert/Const\n",
      "input_producer_1/Assert/Assert/data_0\n",
      "input_producer_1/Assert/Assert\n",
      "input_producer_1/Identity\n",
      "input_producer_1/RandomShuffle\n",
      "input_producer_1\n",
      "input_producer_1/input_producer_1_EnqueueMany\n",
      "input_producer_1/input_producer_1_Close\n",
      "input_producer_1/input_producer_1_Close_1\n",
      "input_producer_1/input_producer_1_Size\n",
      "input_producer_1/Cast\n",
      "input_producer_1/mul/y\n",
      "input_producer_1/mul\n",
      "input_producer_1/fraction_of_32_full/tags\n",
      "input_producer_1/fraction_of_32_full\n",
      "WholeFileReaderV2\n",
      "matching_filenames_2/MatchingFiles/pattern\n",
      "matching_filenames_2/MatchingFiles\n",
      "matching_filenames_2\n",
      "matching_filenames_2/Assign\n",
      "matching_filenames_2/read\n",
      "input_producer_2/Size\n",
      "input_producer_2/Greater/y\n",
      "input_producer_2/Greater\n",
      "input_producer_2/Assert/Const\n",
      "input_producer_2/Assert/Assert/data_0\n",
      "input_producer_2/Assert/Assert\n",
      "input_producer_2/Identity\n",
      "input_producer_2/RandomShuffle\n",
      "input_producer_2\n",
      "input_producer_2/input_producer_2_EnqueueMany\n",
      "input_producer_2/input_producer_2_Close\n",
      "input_producer_2/input_producer_2_Close_1\n",
      "input_producer_2/input_producer_2_Size\n",
      "input_producer_2/Cast\n",
      "input_producer_2/mul/y\n",
      "input_producer_2/mul\n",
      "input_producer_2/fraction_of_32_full/tags\n",
      "input_producer_2/fraction_of_32_full\n",
      "WholeFileReaderV2_1\n",
      "matching_filenames_3/MatchingFiles/pattern\n",
      "matching_filenames_3/MatchingFiles\n",
      "matching_filenames_3\n",
      "matching_filenames_3/Assign\n",
      "matching_filenames_3/read\n",
      "input_producer_3/Size\n",
      "input_producer_3/Greater/y\n",
      "input_producer_3/Greater\n",
      "input_producer_3/Assert/Const\n",
      "input_producer_3/Assert/Assert/data_0\n",
      "input_producer_3/Assert/Assert\n",
      "input_producer_3/Identity\n",
      "input_producer_3/RandomShuffle\n",
      "input_producer_3\n",
      "input_producer_3/input_producer_3_EnqueueMany\n",
      "input_producer_3/input_producer_3_Close\n",
      "input_producer_3/input_producer_3_Close_1\n",
      "input_producer_3/input_producer_3_Size\n",
      "input_producer_3/Cast\n",
      "input_producer_3/mul/y\n",
      "input_producer_3/mul\n",
      "input_producer_3/fraction_of_32_full/tags\n",
      "input_producer_3/fraction_of_32_full\n",
      "WholeFileReaderV2_2\n",
      "matching_filenames_4/MatchingFiles/pattern\n",
      "matching_filenames_4/MatchingFiles\n",
      "matching_filenames_4\n",
      "matching_filenames_4/Assign\n",
      "matching_filenames_4/read\n",
      "input_producer_4/Size\n",
      "input_producer_4/Greater/y\n",
      "input_producer_4/Greater\n",
      "input_producer_4/Assert/Const\n",
      "input_producer_4/Assert/Assert/data_0\n",
      "input_producer_4/Assert/Assert\n",
      "input_producer_4/Identity\n",
      "input_producer_4/RandomShuffle\n",
      "input_producer_4\n",
      "input_producer_4/input_producer_4_EnqueueMany\n",
      "input_producer_4/input_producer_4_Close\n",
      "input_producer_4/input_producer_4_Close_1\n",
      "input_producer_4/input_producer_4_Size\n",
      "input_producer_4/Cast\n",
      "input_producer_4/mul/y\n",
      "input_producer_4/mul\n",
      "input_producer_4/fraction_of_32_full/tags\n",
      "input_producer_4/fraction_of_32_full\n",
      "WholeFileReaderV2_3\n",
      "random_normal/shape\n",
      "random_normal/mean\n",
      "random_normal/stddev\n",
      "random_normal/RandomStandardNormal\n",
      "random_normal/mul\n",
      "random_normal\n",
      "Variable\n",
      "Variable/Assign\n",
      "Variable/read\n",
      "random_normal_1/shape\n",
      "random_normal_1/mean\n",
      "random_normal_1/stddev\n",
      "random_normal_1/RandomStandardNormal\n",
      "random_normal_1/mul\n",
      "random_normal_1\n",
      "Variable_1\n",
      "Variable_1/Assign\n",
      "Variable_1/read\n",
      "random_normal_2/shape\n",
      "random_normal_2/mean\n",
      "random_normal_2/stddev\n",
      "random_normal_2/RandomStandardNormal\n",
      "random_normal_2/mul\n",
      "random_normal_2\n",
      "Variable_2\n",
      "Variable_2/Assign\n",
      "Variable_2/read\n",
      "random_normal_3/shape\n",
      "random_normal_3/mean\n",
      "random_normal_3/stddev\n",
      "random_normal_3/RandomStandardNormal\n",
      "random_normal_3/mul\n",
      "random_normal_3\n",
      "Variable_3\n",
      "Variable_3/Assign\n",
      "Variable_3/read\n",
      "random_normal_4/shape\n",
      "random_normal_4/mean\n",
      "random_normal_4/stddev\n",
      "random_normal_4/RandomStandardNormal\n",
      "random_normal_4/mul\n",
      "random_normal_4\n",
      "Variable_4\n",
      "Variable_4/Assign\n",
      "Variable_4/read\n",
      "random_normal_5/shape\n",
      "random_normal_5/mean\n",
      "random_normal_5/stddev\n",
      "random_normal_5/RandomStandardNormal\n",
      "random_normal_5/mul\n",
      "random_normal_5\n",
      "Variable_5\n",
      "Variable_5/Assign\n",
      "Variable_5/read\n",
      "random_normal_6/shape\n",
      "random_normal_6/mean\n",
      "random_normal_6/stddev\n",
      "random_normal_6/RandomStandardNormal\n",
      "random_normal_6/mul\n",
      "random_normal_6\n",
      "Variable_6\n",
      "Variable_6/Assign\n",
      "Variable_6/read\n",
      "random_normal_7/shape\n",
      "random_normal_7/mean\n",
      "random_normal_7/stddev\n",
      "random_normal_7/RandomStandardNormal\n",
      "random_normal_7/mul\n",
      "random_normal_7\n",
      "Variable_7\n",
      "Variable_7/Assign\n",
      "Variable_7/read\n",
      "random_normal_8/shape\n",
      "random_normal_8/mean\n",
      "random_normal_8/stddev\n",
      "random_normal_8/RandomStandardNormal\n",
      "random_normal_8/mul\n",
      "random_normal_8\n",
      "Variable_8\n",
      "Variable_8/Assign\n",
      "Variable_8/read\n"
     ]
    }
   ],
   "source": [
    "graph = tf.get_default_graph()\n",
    "for op in graph.get_operations():\n",
    "    print(op.name)"
   ]
  },
  {
   "cell_type": "code",
   "execution_count": 125,
   "metadata": {},
   "outputs": [
    {
     "name": "stdout",
     "output_type": "stream",
     "text": [
      "WARNING:tensorflow:From C:\\Users\\saira\\Anaconda3\\lib\\site-packages\\tensorflow\\python\\util\\tf_should_use.py:175: initialize_all_variables (from tensorflow.python.ops.variables) is deprecated and will be removed after 2017-03-02.\n",
      "Instructions for updating:\n",
      "Use `tf.global_variables_initializer` instead.\n",
      "35\n",
      "10\n",
      "60\n",
      "720000000\n",
      "210\n"
     ]
    }
   ],
   "source": [
    "## Reduce the mean, calculate the mean of arry \n",
    "b = tf.Variable([10, 20, 30, 40, 50, 60], name = 't')\n",
    "with tf.Session() as sess:\n",
    "    sess.run(tf.initialize_all_variables())\n",
    "    print(sess.run(tf.reduce_mean(b)))\n",
    "    print(sess.run(tf.reduce_min(b)))\n",
    "    print(sess.run(tf.reduce_max(b)))\n",
    "    print(sess.run(tf.reduce_prod(b)))\n",
    "    print(sess.run(tf.reduce_sum(b)))"
   ]
  },
  {
   "cell_type": "code",
   "execution_count": 129,
   "metadata": {},
   "outputs": [
    {
     "name": "stdout",
     "output_type": "stream",
     "text": [
      "WARNING:tensorflow:From C:\\Users\\saira\\Anaconda3\\lib\\site-packages\\tensorflow\\python\\util\\tf_should_use.py:175: initialize_all_variables (from tensorflow.python.ops.variables) is deprecated and will be removed after 2017-03-02.\n",
      "Instructions for updating:\n",
      "Use `tf.global_variables_initializer` instead.\n",
      "[2 0]\n"
     ]
    }
   ],
   "source": [
    "## ArgMax: Very similar to python argmax. Gets you the maximum value from atensor along the specified axis.\n",
    "a = [[0.1, 0.2, 0.3],[20, 2, 3]]\n",
    "b = tf.Variable(a, name = 'b')\n",
    "with tf.Session() as sess:\n",
    "    (sess.run(tf.initialize_all_variables()))\n",
    "    print(sess.run(tf.argmax(b, 1)))\n",
    "    ## the output shows the index of array"
   ]
  },
  {
   "cell_type": "markdown",
   "metadata": {},
   "source": [
    "Linear Regression exercise"
   ]
  },
  {
   "cell_type": "markdown",
   "metadata": {},
   "source": [
    "Problem statement: In linear regression, you get a lot of data-points and try to fit them on a straight line. For this example, we will create 100 datapoints and try to fit them into a line."
   ]
  },
  {
   "cell_type": "markdown",
   "metadata": {},
   "source": [
    "a) Creating the training data :\n",
    "\n",
    "trainX has values between -1 and 1, and trainY has 3 times the trainX and some randomness.\n",
    "\n"
   ]
  },
  {
   "cell_type": "code",
   "execution_count": 133,
   "metadata": {},
   "outputs": [
    {
     "name": "stdout",
     "output_type": "stream",
     "text": [
      "[-1.   -0.98 -0.96 -0.94 -0.92 -0.9  -0.88 -0.86 -0.84 -0.82 -0.8  -0.78\n",
      " -0.76 -0.74 -0.72 -0.7  -0.68 -0.66 -0.64 -0.62 -0.6  -0.58 -0.56 -0.54\n",
      " -0.52 -0.5  -0.48 -0.46 -0.44 -0.42 -0.4  -0.38 -0.36 -0.34 -0.32 -0.3\n",
      " -0.28 -0.26 -0.24 -0.22 -0.2  -0.18 -0.16 -0.14 -0.12 -0.1  -0.08 -0.06\n",
      " -0.04 -0.02  0.    0.02  0.04  0.06  0.08  0.1   0.12  0.14  0.16  0.18\n",
      "  0.2   0.22  0.24  0.26  0.28  0.3   0.32  0.34  0.36  0.38  0.4   0.42\n",
      "  0.44  0.46  0.48  0.5   0.52  0.54  0.56  0.58  0.6   0.62  0.64  0.66\n",
      "  0.68  0.7   0.72  0.74  0.76  0.78  0.8   0.82  0.84  0.86  0.88  0.9\n",
      "  0.92  0.94  0.96  0.98  1.  ]\n",
      "[-2.85100722 -2.88408194 -2.86744544 -2.54420221 -2.46497759 -3.09177861\n",
      " -2.40807883 -2.11884072 -2.81401613 -2.61729023 -2.23389517 -2.55915214\n",
      " -1.95252787 -2.30949664 -2.14975059 -2.38240891 -2.51327309 -1.80972564\n",
      " -1.90798707 -1.61005492 -1.78316153 -1.27787256 -1.47537819 -1.26672551\n",
      " -1.23415718 -1.25731585 -1.6269146  -1.12676757 -1.22379681 -0.88264821\n",
      " -0.60431461 -0.53786039 -1.33540598 -0.56471275 -0.73061601 -0.88035592\n",
      " -0.76033754 -0.46607457 -0.90363395 -1.08898796 -0.61113237 -0.60210963\n",
      " -1.00338322 -1.20205996 -0.36259049 -0.53536898 -0.05099788 -0.46577611\n",
      "  0.49576241  0.14027919  0.24448079  0.43356758  0.13823446  0.51038643\n",
      " -0.12055072  0.47511829 -0.4076047   0.91172007  0.73918567  0.1742312\n",
      "  0.36617523  0.24271296  0.90190955  0.84494227  0.85815615  1.14670468\n",
      "  0.67707232  0.7566788   0.85955345  1.32621634  1.79927172  1.26523182\n",
      "  1.16031933  1.49704813  1.32771522  1.8491437   1.23450703  1.953447\n",
      "  1.88247575  1.86801185  1.95005639  1.64616346  1.68265158  1.48898674\n",
      "  1.44043395  2.1499706   2.09640782  2.9654275   2.58550328  2.60596283\n",
      "  1.96587633  2.88820865  2.15736035  2.67797989  2.63431983  2.43010951\n",
      "  2.23652296  2.28870432  2.83587364  2.43138031  3.45574502]\n"
     ]
    }
   ],
   "source": [
    "import numpy as np\n",
    "trainX = np.linspace(-1, 1, 101)\n",
    "print(trainX)\n",
    "trainY = 3*trainX + np.random.randn(*trainX.shape) * 0.33\n",
    "print( trainY)"
   ]
  },
  {
   "cell_type": "markdown",
   "metadata": {},
   "source": [
    "b) placeholder"
   ]
  },
  {
   "cell_type": "code",
   "execution_count": 144,
   "metadata": {
    "collapsed": true
   },
   "outputs": [],
   "source": [
    "X = tf.placeholder(\"float\")\n",
    "Y = tf.placeholder(\"float\")"
   ]
  },
  {
   "cell_type": "markdown",
   "metadata": {},
   "source": [
    "c) Modeling \n",
    "\n",
    "Linear regression model is y_model=w*x and we have to calculate the value of w through our model. Let’s initialize w to 0 and create a model to solve this problem. We define the cost as square of (Y-y_model). TensorFlow comes with many optimizers that calculate and update the gradients after each iteration while trying to minimize the specified cost. We are going to define the training operation as changing the values using GradientDescentOptimizer to minimize cost with a learning rate of 0.01. Later we will run this training operation in a loop."
   ]
  },
  {
   "cell_type": "code",
   "execution_count": 147,
   "metadata": {},
   "outputs": [],
   "source": [
    "w = tf.Variable(0.0, name = \"weights\")\n",
    "y_model = tf.multiply(X, w)\n",
    "cost = (tf.pow(Y - y_model, 2))\n",
    "#train_op = tf.train.GradientDescentOptimizer(0.01).minimize(cost)"
   ]
  },
  {
   "cell_type": "markdown",
   "metadata": {},
   "source": [
    "d) training\n",
    "\n",
    "Till this point, we have only defined the graph. No computation has happened.\n",
    "\n",
    "None of the TensorFlow variables have any value. In order to run this graph, we need to create a Session and run. Before that we need to create the init_op to initialize all variables:"
   ]
  },
  {
   "cell_type": "code",
   "execution_count": 148,
   "metadata": {},
   "outputs": [
    {
     "name": "stdout",
     "output_type": "stream",
     "text": [
      "WARNING:tensorflow:From C:\\Users\\saira\\Anaconda3\\lib\\site-packages\\tensorflow\\python\\util\\tf_should_use.py:175: initialize_all_variables (from tensorflow.python.ops.variables) is deprecated and will be removed after 2017-03-02.\n",
      "Instructions for updating:\n",
      "Use `tf.global_variables_initializer` instead.\n"
     ]
    }
   ],
   "source": [
    "init = tf.initialize_all_variables()"
   ]
  },
  {
   "cell_type": "code",
   "execution_count": 155,
   "metadata": {},
   "outputs": [],
   "source": [
    "with tf.Session() as sess:\n",
    "    sess.run(init)"
   ]
  },
  {
   "cell_type": "code",
   "execution_count": 158,
   "metadata": {},
   "outputs": [],
   "source": [
    "#for i in range(100):\n",
    "    #for (x, y) in zip(trainX, trainY):\n",
    "        #sess.run(train_op, feed_dict= {X:x, Y:y})\n",
    "    #print(sess.run(w))"
   ]
  },
  {
   "cell_type": "code",
   "execution_count": 157,
   "metadata": {},
   "outputs": [
    {
     "name": "stdout",
     "output_type": "stream",
     "text": [
      "0.0\n"
     ]
    }
   ],
   "source": [
    "with tf.Session() as sess:\n",
    "    sess.run(init)\n",
    "    print(sess.run(w))"
   ]
  },
  {
   "cell_type": "code",
   "execution_count": 159,
   "metadata": {
    "collapsed": true
   },
   "outputs": [],
   "source": [
    "## basic program by using tensorflow \n",
    "import tensorflow as tf"
   ]
  },
  {
   "cell_type": "code",
   "execution_count": 160,
   "metadata": {
    "collapsed": true
   },
   "outputs": [],
   "source": [
    "## building a graph\n",
    "## to create two scource operations which will output number willdefine two constants\n",
    "a = tf.constant([2])\n",
    "b = tf.constant([3])"
   ]
  },
  {
   "cell_type": "code",
   "execution_count": 171,
   "metadata": {},
   "outputs": [
    {
     "name": "stdout",
     "output_type": "stream",
     "text": [
      "[5]\n",
      "[6]\n"
     ]
    }
   ],
   "source": [
    "c = tf.add(a, b)\n",
    "c1 = tf.multiply(a,b)\n",
    "with tf.Session() as sess:\n",
    "    print(sess.run(c))\n",
    "    with tf.Session() as sess:\n",
    "        print(sess.run(c1))"
   ]
  },
  {
   "cell_type": "code",
   "execution_count": 172,
   "metadata": {},
   "outputs": [
    {
     "name": "stdout",
     "output_type": "stream",
     "text": [
      "[ 1.5]\n"
     ]
    }
   ],
   "source": [
    "c2 = tf.divide(b, a)\n",
    "session = tf.Session()\n",
    "result = session.run(c2)\n",
    "print(result)\n",
    "session.close()"
   ]
  },
  {
   "cell_type": "code",
   "execution_count": 189,
   "metadata": {},
   "outputs": [
    {
     "name": "stdout",
     "output_type": "stream",
     "text": [
      "b'Hello World'\n"
     ]
    }
   ],
   "source": [
    "c = tf.constant('Hello World', name = 'string')\n",
    "session = tf.Session()\n",
    "result = session.run(c)\n",
    "print(result)\n",
    "session.close()"
   ]
  },
  {
   "cell_type": "markdown",
   "metadata": {},
   "source": [
    "Defining multidimensional arrays using tensorflow"
   ]
  },
  {
   "cell_type": "code",
   "execution_count": 209,
   "metadata": {},
   "outputs": [
    {
     "name": "stdout",
     "output_type": "stream",
     "text": [
      "Defined using tensor flow function:\n",
      "[[ 6 12]\n",
      " [15 24]]\n"
     ]
    }
   ],
   "source": [
    "matrix_one = tf.constant([[2,3],[3,4]])\n",
    "matrix_two = tf.constant([[3,4],[5,6]])\n",
    "\n",
    "first_operation = tf.multiply(matrix_one,matrix_two)\n",
    "with tf.Session() as sess:\n",
    "    result = sess.run(first_operation)\n",
    "    print(\"Defined using tensor flow function:\")\n",
    "    print(result)"
   ]
  },
  {
   "cell_type": "code",
   "execution_count": 213,
   "metadata": {},
   "outputs": [
    {
     "name": "stdout",
     "output_type": "stream",
     "text": [
      "WARNING:tensorflow:From C:\\Users\\saira\\Anaconda3\\lib\\site-packages\\tensorflow\\python\\util\\tf_should_use.py:175: initialize_all_variables (from tensorflow.python.ops.variables) is deprecated and will be removed after 2017-03-02.\n",
      "Instructions for updating:\n",
      "Use `tf.global_variables_initializer` instead.\n"
     ]
    }
   ],
   "source": [
    "# variable example\n",
    "state = tf.Variable(0)\n",
    "one = tf.constant(1)\n",
    "new_value = tf.add(state, one)\n",
    "update = tf.assign(state, new_value)\\\n",
    "\n",
    "init_op = tf.initialize_all_variables()"
   ]
  },
  {
   "cell_type": "code",
   "execution_count": 216,
   "metadata": {},
   "outputs": [
    {
     "name": "stdout",
     "output_type": "stream",
     "text": [
      "0\n",
      "1\n",
      "2\n",
      "3\n"
     ]
    }
   ],
   "source": [
    "with tf.Session() as sess:\n",
    "    sess.run(init_op)\n",
    "    print(sess.run(state))\n",
    "    for _ in range(3):\n",
    "        sess.run(update)\n",
    "        print(sess.run(state))"
   ]
  },
  {
   "cell_type": "code",
   "execution_count": 220,
   "metadata": {},
   "outputs": [
    {
     "name": "stdout",
     "output_type": "stream",
     "text": [
      "[9]\n"
     ]
    }
   ],
   "source": [
    "a = tf.constant([2])\n",
    "b = tf.constant([7])\n",
    "c = tf.add(a,b)\n",
    "sess = tf.Session()\n",
    "result = sess.run(c)\n",
    "print(result)\n",
    "sess.close()"
   ]
  },
  {
   "cell_type": "code",
   "execution_count": 221,
   "metadata": {},
   "outputs": [
    {
     "name": "stdout",
     "output_type": "stream",
     "text": [
      "[9]\n"
     ]
    }
   ],
   "source": [
    "with tf.Session() as sess:\n",
    "    result = sess.run(c)\n",
    "    print(result)"
   ]
  },
  {
   "cell_type": "markdown",
   "metadata": {},
   "source": [
    "What is the meaninhg of tensorflow?\n",
    "\n",
    "In TensorFlow all data is passed between operations in a computation graph, and these are passed in the form of Tensors, hence the name of TensorFlow. "
   ]
  },
  {
   "cell_type": "code",
   "execution_count": 227,
   "metadata": {},
   "outputs": [
    {
     "name": "stdout",
     "output_type": "stream",
     "text": [
      "Scalar (1 entry):\n",
      " [2] \n",
      "\n",
      "Vector (3 entries) :\n",
      " [5 6 2] \n",
      "\n",
      "Matrix (3x3 entries):\n",
      " [[1 2 3]\n",
      " [2 3 4]\n",
      " [3 4 5]] \n",
      "\n",
      "Tensor (3x3x3 entries) :\n",
      " [[[ 1  2  3]\n",
      "  [ 2  3  4]\n",
      "  [ 3  4  5]]\n",
      "\n",
      " [[ 4  5  6]\n",
      "  [ 5  6  7]\n",
      "  [ 6  7  8]]\n",
      "\n",
      " [[ 7  8  9]\n",
      "  [ 8  9 10]\n",
      "  [ 9 10 11]]] \n",
      "\n"
     ]
    }
   ],
   "source": [
    "Scalar = tf.constant([2])\n",
    "Vector = tf.constant([5,6,2])\n",
    "Matrix = tf.constant([[1,2,3],[2,3,4],[3,4,5]])\n",
    "Tensor = tf.constant( [ [[1,2,3],[2,3,4],[3,4,5]] , [[4,5,6],[5,6,7],[6,7,8]] , [[7,8,9],[8,9,10],[9,10,11]] ] )\n",
    "with tf.Session() as session:\n",
    "    result = session.run(Scalar)\n",
    "    print (\"Scalar (1 entry):\\n %s \\n\" % (result,))\n",
    "    result = session.run(Vector)\n",
    "    print (\"Vector (3 entries) :\\n %s \\n\" % (result))\n",
    "    result = session.run(Matrix)\n",
    "    print (\"Matrix (3x3 entries):\\n %s \\n\" % (result))\n",
    "    result = session.run(Tensor)\n",
    "    print (\"Tensor (3x3x3 entries) :\\n %s \\n\" % (result))"
   ]
  },
  {
   "cell_type": "code",
   "execution_count": 228,
   "metadata": {},
   "outputs": [
    {
     "name": "stdout",
     "output_type": "stream",
     "text": [
      "<tensorflow.python.framework.ops.Graph object at 0x000001DBCB56C320>\n"
     ]
    },
    {
     "data": {
      "text/plain": [
       "[<tf.Operation 'Const' type=Const>,\n",
       " <tf.Operation 'Const_1' type=Const>,\n",
       " <tf.Operation 'Const_2' type=Const>,\n",
       " <tf.Operation 'Const_3' type=Const>,\n",
       " <tf.Operation 'mul' type=Mul>,\n",
       " <tf.Operation 'Const_4' type=Const>,\n",
       " <tf.Operation 'Const_5' type=Const>,\n",
       " <tf.Operation 'mul_1' type=Mul>,\n",
       " <tf.Operation 'Const_6' type=Const>,\n",
       " <tf.Operation 'Const_7' type=Const>,\n",
       " <tf.Operation 'Const_8' type=Const>,\n",
       " <tf.Operation 'Const_9' type=Const>,\n",
       " <tf.Operation 'mul_3' type=Mul>,\n",
       " <tf.Operation 'Const_10' type=Const>,\n",
       " <tf.Operation 'Const_11' type=Const>,\n",
       " <tf.Operation 'Const_12' type=Const>,\n",
       " <tf.Operation 'Const_13' type=Const>,\n",
       " <tf.Operation 'Const_14' type=Const>,\n",
       " <tf.Operation 'Const_15' type=Const>,\n",
       " <tf.Operation 'Const_16' type=Const>,\n",
       " <tf.Operation 'test_var/initial_value' type=Const>,\n",
       " <tf.Operation 'test_var' type=VariableV2>,\n",
       " <tf.Operation 'test_var/Assign' type=Assign>,\n",
       " <tf.Operation 'test_var/read' type=Identity>,\n",
       " <tf.Operation 'test_var_1/initial_value' type=Const>,\n",
       " <tf.Operation 'test_var_1' type=VariableV2>,\n",
       " <tf.Operation 'test_var_1/Assign' type=Assign>,\n",
       " <tf.Operation 'test_var_1/read' type=Identity>,\n",
       " <tf.Operation 'test_var_2/initial_value' type=Const>,\n",
       " <tf.Operation 'test_var_2' type=VariableV2>,\n",
       " <tf.Operation 'test_var_2/Assign' type=Assign>,\n",
       " <tf.Operation 'test_var_2/read' type=Identity>,\n",
       " <tf.Operation 'test_var_3/initial_value' type=Const>,\n",
       " <tf.Operation 'test_var_3' type=VariableV2>,\n",
       " <tf.Operation 'test_var_3/Assign' type=Assign>,\n",
       " <tf.Operation 'test_var_3/read' type=Identity>,\n",
       " <tf.Operation 'test_var_4/initial_value' type=Const>,\n",
       " <tf.Operation 'test_var_4' type=VariableV2>,\n",
       " <tf.Operation 'test_var_4/Assign' type=Assign>,\n",
       " <tf.Operation 'test_var_4/read' type=Identity>,\n",
       " <tf.Operation 'init' type=NoOp>,\n",
       " <tf.Operation 'init_1' type=NoOp>,\n",
       " <tf.Operation 'init_2' type=NoOp>,\n",
       " <tf.Operation 'Placeholder' type=Placeholder>,\n",
       " <tf.Operation 'Placeholder_1' type=Placeholder>,\n",
       " <tf.Operation 'Mul' type=Mul>,\n",
       " <tf.Operation 'Placeholder_2' type=Placeholder>,\n",
       " <tf.Operation 'Placeholder_3' type=Placeholder>,\n",
       " <tf.Operation 'Mul_1' type=Mul>,\n",
       " <tf.Operation 'Placeholder_4' type=Placeholder>,\n",
       " <tf.Operation 'Placeholder_5' type=Placeholder>,\n",
       " <tf.Operation 'Mul_2' type=Mul>,\n",
       " <tf.Operation 'Placeholder_6' type=Placeholder>,\n",
       " <tf.Operation 'Placeholder_7' type=Placeholder>,\n",
       " <tf.Operation 'Mul_3' type=Mul>,\n",
       " <tf.Operation 'Placeholder_8' type=Placeholder>,\n",
       " <tf.Operation 'Placeholder_9' type=Placeholder>,\n",
       " <tf.Operation 'Mul_4' type=Mul>,\n",
       " <tf.Operation 'matching_filenames/MatchingFiles/pattern' type=Const>,\n",
       " <tf.Operation 'matching_filenames/MatchingFiles' type=MatchingFiles>,\n",
       " <tf.Operation 'matching_filenames' type=VariableV2>,\n",
       " <tf.Operation 'matching_filenames/Assign' type=Assign>,\n",
       " <tf.Operation 'matching_filenames/read' type=Identity>,\n",
       " <tf.Operation 'input_producer/Size' type=Size>,\n",
       " <tf.Operation 'input_producer/Greater/y' type=Const>,\n",
       " <tf.Operation 'input_producer/Greater' type=Greater>,\n",
       " <tf.Operation 'input_producer/Assert/Const' type=Const>,\n",
       " <tf.Operation 'input_producer/Assert/Assert/data_0' type=Const>,\n",
       " <tf.Operation 'input_producer/Assert/Assert' type=Assert>,\n",
       " <tf.Operation 'input_producer/Identity' type=Identity>,\n",
       " <tf.Operation 'input_producer/RandomShuffle' type=RandomShuffle>,\n",
       " <tf.Operation 'input_producer' type=FIFOQueueV2>,\n",
       " <tf.Operation 'input_producer/input_producer_EnqueueMany' type=QueueEnqueueManyV2>,\n",
       " <tf.Operation 'input_producer/input_producer_Close' type=QueueCloseV2>,\n",
       " <tf.Operation 'input_producer/input_producer_Close_1' type=QueueCloseV2>,\n",
       " <tf.Operation 'input_producer/input_producer_Size' type=QueueSizeV2>,\n",
       " <tf.Operation 'input_producer/Cast' type=Cast>,\n",
       " <tf.Operation 'input_producer/mul/y' type=Const>,\n",
       " <tf.Operation 'input_producer/mul' type=Mul>,\n",
       " <tf.Operation 'input_producer/fraction_of_32_full/tags' type=Const>,\n",
       " <tf.Operation 'input_producer/fraction_of_32_full' type=ScalarSummary>,\n",
       " <tf.Operation 'matching_filenames_1/MatchingFiles/pattern' type=Const>,\n",
       " <tf.Operation 'matching_filenames_1/MatchingFiles' type=MatchingFiles>,\n",
       " <tf.Operation 'matching_filenames_1' type=VariableV2>,\n",
       " <tf.Operation 'matching_filenames_1/Assign' type=Assign>,\n",
       " <tf.Operation 'matching_filenames_1/read' type=Identity>,\n",
       " <tf.Operation 'input_producer_1/Size' type=Size>,\n",
       " <tf.Operation 'input_producer_1/Greater/y' type=Const>,\n",
       " <tf.Operation 'input_producer_1/Greater' type=Greater>,\n",
       " <tf.Operation 'input_producer_1/Assert/Const' type=Const>,\n",
       " <tf.Operation 'input_producer_1/Assert/Assert/data_0' type=Const>,\n",
       " <tf.Operation 'input_producer_1/Assert/Assert' type=Assert>,\n",
       " <tf.Operation 'input_producer_1/Identity' type=Identity>,\n",
       " <tf.Operation 'input_producer_1/RandomShuffle' type=RandomShuffle>,\n",
       " <tf.Operation 'input_producer_1' type=FIFOQueueV2>,\n",
       " <tf.Operation 'input_producer_1/input_producer_1_EnqueueMany' type=QueueEnqueueManyV2>,\n",
       " <tf.Operation 'input_producer_1/input_producer_1_Close' type=QueueCloseV2>,\n",
       " <tf.Operation 'input_producer_1/input_producer_1_Close_1' type=QueueCloseV2>,\n",
       " <tf.Operation 'input_producer_1/input_producer_1_Size' type=QueueSizeV2>,\n",
       " <tf.Operation 'input_producer_1/Cast' type=Cast>,\n",
       " <tf.Operation 'input_producer_1/mul/y' type=Const>,\n",
       " <tf.Operation 'input_producer_1/mul' type=Mul>,\n",
       " <tf.Operation 'input_producer_1/fraction_of_32_full/tags' type=Const>,\n",
       " <tf.Operation 'input_producer_1/fraction_of_32_full' type=ScalarSummary>,\n",
       " <tf.Operation 'WholeFileReaderV2' type=WholeFileReaderV2>,\n",
       " <tf.Operation 'matching_filenames_2/MatchingFiles/pattern' type=Const>,\n",
       " <tf.Operation 'matching_filenames_2/MatchingFiles' type=MatchingFiles>,\n",
       " <tf.Operation 'matching_filenames_2' type=VariableV2>,\n",
       " <tf.Operation 'matching_filenames_2/Assign' type=Assign>,\n",
       " <tf.Operation 'matching_filenames_2/read' type=Identity>,\n",
       " <tf.Operation 'input_producer_2/Size' type=Size>,\n",
       " <tf.Operation 'input_producer_2/Greater/y' type=Const>,\n",
       " <tf.Operation 'input_producer_2/Greater' type=Greater>,\n",
       " <tf.Operation 'input_producer_2/Assert/Const' type=Const>,\n",
       " <tf.Operation 'input_producer_2/Assert/Assert/data_0' type=Const>,\n",
       " <tf.Operation 'input_producer_2/Assert/Assert' type=Assert>,\n",
       " <tf.Operation 'input_producer_2/Identity' type=Identity>,\n",
       " <tf.Operation 'input_producer_2/RandomShuffle' type=RandomShuffle>,\n",
       " <tf.Operation 'input_producer_2' type=FIFOQueueV2>,\n",
       " <tf.Operation 'input_producer_2/input_producer_2_EnqueueMany' type=QueueEnqueueManyV2>,\n",
       " <tf.Operation 'input_producer_2/input_producer_2_Close' type=QueueCloseV2>,\n",
       " <tf.Operation 'input_producer_2/input_producer_2_Close_1' type=QueueCloseV2>,\n",
       " <tf.Operation 'input_producer_2/input_producer_2_Size' type=QueueSizeV2>,\n",
       " <tf.Operation 'input_producer_2/Cast' type=Cast>,\n",
       " <tf.Operation 'input_producer_2/mul/y' type=Const>,\n",
       " <tf.Operation 'input_producer_2/mul' type=Mul>,\n",
       " <tf.Operation 'input_producer_2/fraction_of_32_full/tags' type=Const>,\n",
       " <tf.Operation 'input_producer_2/fraction_of_32_full' type=ScalarSummary>,\n",
       " <tf.Operation 'WholeFileReaderV2_1' type=WholeFileReaderV2>,\n",
       " <tf.Operation 'matching_filenames_3/MatchingFiles/pattern' type=Const>,\n",
       " <tf.Operation 'matching_filenames_3/MatchingFiles' type=MatchingFiles>,\n",
       " <tf.Operation 'matching_filenames_3' type=VariableV2>,\n",
       " <tf.Operation 'matching_filenames_3/Assign' type=Assign>,\n",
       " <tf.Operation 'matching_filenames_3/read' type=Identity>,\n",
       " <tf.Operation 'input_producer_3/Size' type=Size>,\n",
       " <tf.Operation 'input_producer_3/Greater/y' type=Const>,\n",
       " <tf.Operation 'input_producer_3/Greater' type=Greater>,\n",
       " <tf.Operation 'input_producer_3/Assert/Const' type=Const>,\n",
       " <tf.Operation 'input_producer_3/Assert/Assert/data_0' type=Const>,\n",
       " <tf.Operation 'input_producer_3/Assert/Assert' type=Assert>,\n",
       " <tf.Operation 'input_producer_3/Identity' type=Identity>,\n",
       " <tf.Operation 'input_producer_3/RandomShuffle' type=RandomShuffle>,\n",
       " <tf.Operation 'input_producer_3' type=FIFOQueueV2>,\n",
       " <tf.Operation 'input_producer_3/input_producer_3_EnqueueMany' type=QueueEnqueueManyV2>,\n",
       " <tf.Operation 'input_producer_3/input_producer_3_Close' type=QueueCloseV2>,\n",
       " <tf.Operation 'input_producer_3/input_producer_3_Close_1' type=QueueCloseV2>,\n",
       " <tf.Operation 'input_producer_3/input_producer_3_Size' type=QueueSizeV2>,\n",
       " <tf.Operation 'input_producer_3/Cast' type=Cast>,\n",
       " <tf.Operation 'input_producer_3/mul/y' type=Const>,\n",
       " <tf.Operation 'input_producer_3/mul' type=Mul>,\n",
       " <tf.Operation 'input_producer_3/fraction_of_32_full/tags' type=Const>,\n",
       " <tf.Operation 'input_producer_3/fraction_of_32_full' type=ScalarSummary>,\n",
       " <tf.Operation 'WholeFileReaderV2_2' type=WholeFileReaderV2>,\n",
       " <tf.Operation 'matching_filenames_4/MatchingFiles/pattern' type=Const>,\n",
       " <tf.Operation 'matching_filenames_4/MatchingFiles' type=MatchingFiles>,\n",
       " <tf.Operation 'matching_filenames_4' type=VariableV2>,\n",
       " <tf.Operation 'matching_filenames_4/Assign' type=Assign>,\n",
       " <tf.Operation 'matching_filenames_4/read' type=Identity>,\n",
       " <tf.Operation 'input_producer_4/Size' type=Size>,\n",
       " <tf.Operation 'input_producer_4/Greater/y' type=Const>,\n",
       " <tf.Operation 'input_producer_4/Greater' type=Greater>,\n",
       " <tf.Operation 'input_producer_4/Assert/Const' type=Const>,\n",
       " <tf.Operation 'input_producer_4/Assert/Assert/data_0' type=Const>,\n",
       " <tf.Operation 'input_producer_4/Assert/Assert' type=Assert>,\n",
       " <tf.Operation 'input_producer_4/Identity' type=Identity>,\n",
       " <tf.Operation 'input_producer_4/RandomShuffle' type=RandomShuffle>,\n",
       " <tf.Operation 'input_producer_4' type=FIFOQueueV2>,\n",
       " <tf.Operation 'input_producer_4/input_producer_4_EnqueueMany' type=QueueEnqueueManyV2>,\n",
       " <tf.Operation 'input_producer_4/input_producer_4_Close' type=QueueCloseV2>,\n",
       " <tf.Operation 'input_producer_4/input_producer_4_Close_1' type=QueueCloseV2>,\n",
       " <tf.Operation 'input_producer_4/input_producer_4_Size' type=QueueSizeV2>,\n",
       " <tf.Operation 'input_producer_4/Cast' type=Cast>,\n",
       " <tf.Operation 'input_producer_4/mul/y' type=Const>,\n",
       " <tf.Operation 'input_producer_4/mul' type=Mul>,\n",
       " <tf.Operation 'input_producer_4/fraction_of_32_full/tags' type=Const>,\n",
       " <tf.Operation 'input_producer_4/fraction_of_32_full' type=ScalarSummary>,\n",
       " <tf.Operation 'WholeFileReaderV2_3' type=WholeFileReaderV2>,\n",
       " <tf.Operation 'random_normal/shape' type=Const>,\n",
       " <tf.Operation 'random_normal/mean' type=Const>,\n",
       " <tf.Operation 'random_normal/stddev' type=Const>,\n",
       " <tf.Operation 'random_normal/RandomStandardNormal' type=RandomStandardNormal>,\n",
       " <tf.Operation 'random_normal/mul' type=Mul>,\n",
       " <tf.Operation 'random_normal' type=Add>,\n",
       " <tf.Operation 'Variable' type=VariableV2>,\n",
       " <tf.Operation 'Variable/Assign' type=Assign>,\n",
       " <tf.Operation 'Variable/read' type=Identity>,\n",
       " <tf.Operation 'random_normal_1/shape' type=Const>,\n",
       " <tf.Operation 'random_normal_1/mean' type=Const>,\n",
       " <tf.Operation 'random_normal_1/stddev' type=Const>,\n",
       " <tf.Operation 'random_normal_1/RandomStandardNormal' type=RandomStandardNormal>,\n",
       " <tf.Operation 'random_normal_1/mul' type=Mul>,\n",
       " <tf.Operation 'random_normal_1' type=Add>,\n",
       " <tf.Operation 'Variable_1' type=VariableV2>,\n",
       " <tf.Operation 'Variable_1/Assign' type=Assign>,\n",
       " <tf.Operation 'Variable_1/read' type=Identity>,\n",
       " <tf.Operation 'random_normal_2/shape' type=Const>,\n",
       " <tf.Operation 'random_normal_2/mean' type=Const>,\n",
       " <tf.Operation 'random_normal_2/stddev' type=Const>,\n",
       " <tf.Operation 'random_normal_2/RandomStandardNormal' type=RandomStandardNormal>,\n",
       " <tf.Operation 'random_normal_2/mul' type=Mul>,\n",
       " <tf.Operation 'random_normal_2' type=Add>,\n",
       " <tf.Operation 'Variable_2' type=VariableV2>,\n",
       " <tf.Operation 'Variable_2/Assign' type=Assign>,\n",
       " <tf.Operation 'Variable_2/read' type=Identity>,\n",
       " <tf.Operation 'random_normal_3/shape' type=Const>,\n",
       " <tf.Operation 'random_normal_3/mean' type=Const>,\n",
       " <tf.Operation 'random_normal_3/stddev' type=Const>,\n",
       " <tf.Operation 'random_normal_3/RandomStandardNormal' type=RandomStandardNormal>,\n",
       " <tf.Operation 'random_normal_3/mul' type=Mul>,\n",
       " <tf.Operation 'random_normal_3' type=Add>,\n",
       " <tf.Operation 'Variable_3' type=VariableV2>,\n",
       " <tf.Operation 'Variable_3/Assign' type=Assign>,\n",
       " <tf.Operation 'Variable_3/read' type=Identity>,\n",
       " <tf.Operation 'random_normal_4/shape' type=Const>,\n",
       " <tf.Operation 'random_normal_4/mean' type=Const>,\n",
       " <tf.Operation 'random_normal_4/stddev' type=Const>,\n",
       " <tf.Operation 'random_normal_4/RandomStandardNormal' type=RandomStandardNormal>,\n",
       " <tf.Operation 'random_normal_4/mul' type=Mul>,\n",
       " <tf.Operation 'random_normal_4' type=Add>,\n",
       " <tf.Operation 'Variable_4' type=VariableV2>,\n",
       " <tf.Operation 'Variable_4/Assign' type=Assign>,\n",
       " <tf.Operation 'Variable_4/read' type=Identity>,\n",
       " <tf.Operation 'random_normal_5/shape' type=Const>,\n",
       " <tf.Operation 'random_normal_5/mean' type=Const>,\n",
       " <tf.Operation 'random_normal_5/stddev' type=Const>,\n",
       " <tf.Operation 'random_normal_5/RandomStandardNormal' type=RandomStandardNormal>,\n",
       " <tf.Operation 'random_normal_5/mul' type=Mul>,\n",
       " <tf.Operation 'random_normal_5' type=Add>,\n",
       " <tf.Operation 'Variable_5' type=VariableV2>,\n",
       " <tf.Operation 'Variable_5/Assign' type=Assign>,\n",
       " <tf.Operation 'Variable_5/read' type=Identity>,\n",
       " <tf.Operation 'random_normal_6/shape' type=Const>,\n",
       " <tf.Operation 'random_normal_6/mean' type=Const>,\n",
       " <tf.Operation 'random_normal_6/stddev' type=Const>,\n",
       " <tf.Operation 'random_normal_6/RandomStandardNormal' type=RandomStandardNormal>,\n",
       " <tf.Operation 'random_normal_6/mul' type=Mul>,\n",
       " <tf.Operation 'random_normal_6' type=Add>,\n",
       " <tf.Operation 'Variable_6' type=VariableV2>,\n",
       " <tf.Operation 'Variable_6/Assign' type=Assign>,\n",
       " <tf.Operation 'Variable_6/read' type=Identity>,\n",
       " <tf.Operation 'random_normal_7/shape' type=Const>,\n",
       " <tf.Operation 'random_normal_7/mean' type=Const>,\n",
       " <tf.Operation 'random_normal_7/stddev' type=Const>,\n",
       " <tf.Operation 'random_normal_7/RandomStandardNormal' type=RandomStandardNormal>,\n",
       " <tf.Operation 'random_normal_7/mul' type=Mul>,\n",
       " <tf.Operation 'random_normal_7' type=Add>,\n",
       " <tf.Operation 'Variable_7' type=VariableV2>,\n",
       " <tf.Operation 'Variable_7/Assign' type=Assign>,\n",
       " <tf.Operation 'Variable_7/read' type=Identity>,\n",
       " <tf.Operation 'random_normal_8/shape' type=Const>,\n",
       " <tf.Operation 'random_normal_8/mean' type=Const>,\n",
       " <tf.Operation 'random_normal_8/stddev' type=Const>,\n",
       " <tf.Operation 'random_normal_8/RandomStandardNormal' type=RandomStandardNormal>,\n",
       " <tf.Operation 'random_normal_8/mul' type=Mul>,\n",
       " <tf.Operation 'random_normal_8' type=Add>,\n",
       " <tf.Operation 'Variable_8' type=VariableV2>,\n",
       " <tf.Operation 'Variable_8/Assign' type=Assign>,\n",
       " <tf.Operation 'Variable_8/read' type=Identity>,\n",
       " <tf.Operation 't/initial_value' type=Const>,\n",
       " <tf.Operation 't' type=VariableV2>,\n",
       " <tf.Operation 't/Assign' type=Assign>,\n",
       " <tf.Operation 't/read' type=Identity>,\n",
       " <tf.Operation 't_1/initial_value' type=Const>,\n",
       " <tf.Operation 't_1' type=VariableV2>,\n",
       " <tf.Operation 't_1/Assign' type=Assign>,\n",
       " <tf.Operation 't_1/read' type=Identity>,\n",
       " <tf.Operation 'init_3' type=NoOp>,\n",
       " <tf.Operation 't_2/initial_value' type=Const>,\n",
       " <tf.Operation 't_2' type=VariableV2>,\n",
       " <tf.Operation 't_2/Assign' type=Assign>,\n",
       " <tf.Operation 't_2/read' type=Identity>,\n",
       " <tf.Operation 'init_4' type=NoOp>,\n",
       " <tf.Operation 'Rank' type=Const>,\n",
       " <tf.Operation 'range/start' type=Const>,\n",
       " <tf.Operation 'range/delta' type=Const>,\n",
       " <tf.Operation 'range' type=Range>,\n",
       " <tf.Operation 'Mean' type=Mean>,\n",
       " <tf.Operation 't_3/initial_value' type=Const>,\n",
       " <tf.Operation 't_3' type=VariableV2>,\n",
       " <tf.Operation 't_3/Assign' type=Assign>,\n",
       " <tf.Operation 't_3/read' type=Identity>,\n",
       " <tf.Operation 'init_5' type=NoOp>,\n",
       " <tf.Operation 'Rank_1' type=Const>,\n",
       " <tf.Operation 'range_1/start' type=Const>,\n",
       " <tf.Operation 'range_1/delta' type=Const>,\n",
       " <tf.Operation 'range_1' type=Range>,\n",
       " <tf.Operation 'Mean_1' type=Mean>,\n",
       " <tf.Operation 't_4/initial_value' type=Const>,\n",
       " <tf.Operation 't_4' type=VariableV2>,\n",
       " <tf.Operation 't_4/Assign' type=Assign>,\n",
       " <tf.Operation 't_4/read' type=Identity>,\n",
       " <tf.Operation 'init_6' type=NoOp>,\n",
       " <tf.Operation 'Rank_2' type=Const>,\n",
       " <tf.Operation 'range_2/start' type=Const>,\n",
       " <tf.Operation 'range_2/delta' type=Const>,\n",
       " <tf.Operation 'range_2' type=Range>,\n",
       " <tf.Operation 'Mean_2' type=Mean>,\n",
       " <tf.Operation 't_5/initial_value' type=Const>,\n",
       " <tf.Operation 't_5' type=VariableV2>,\n",
       " <tf.Operation 't_5/Assign' type=Assign>,\n",
       " <tf.Operation 't_5/read' type=Identity>,\n",
       " <tf.Operation 'init_7' type=NoOp>,\n",
       " <tf.Operation 'Rank_3' type=Const>,\n",
       " <tf.Operation 'range_3/start' type=Const>,\n",
       " <tf.Operation 'range_3/delta' type=Const>,\n",
       " <tf.Operation 'range_3' type=Range>,\n",
       " <tf.Operation 'Mean_3' type=Mean>,\n",
       " <tf.Operation 't_6/initial_value' type=Const>,\n",
       " <tf.Operation 't_6' type=VariableV2>,\n",
       " <tf.Operation 't_6/Assign' type=Assign>,\n",
       " <tf.Operation 't_6/read' type=Identity>,\n",
       " <tf.Operation 'init_8' type=NoOp>,\n",
       " <tf.Operation 'Rank_4' type=Const>,\n",
       " <tf.Operation 'range_4/start' type=Const>,\n",
       " <tf.Operation 'range_4/delta' type=Const>,\n",
       " <tf.Operation 'range_4' type=Range>,\n",
       " <tf.Operation 'Mean_4' type=Mean>,\n",
       " <tf.Operation 't_7/initial_value' type=Const>,\n",
       " <tf.Operation 't_7' type=VariableV2>,\n",
       " <tf.Operation 't_7/Assign' type=Assign>,\n",
       " <tf.Operation 't_7/read' type=Identity>,\n",
       " <tf.Operation 'init_9' type=NoOp>,\n",
       " <tf.Operation 'Rank_5' type=Const>,\n",
       " <tf.Operation 'range_5/start' type=Const>,\n",
       " <tf.Operation 'range_5/delta' type=Const>,\n",
       " <tf.Operation 'range_5' type=Range>,\n",
       " <tf.Operation 'Mean_5' type=Mean>,\n",
       " <tf.Operation 't_8/initial_value' type=Const>,\n",
       " <tf.Operation 't_8' type=VariableV2>,\n",
       " <tf.Operation 't_8/Assign' type=Assign>,\n",
       " <tf.Operation 't_8/read' type=Identity>,\n",
       " <tf.Operation 'init_10' type=NoOp>,\n",
       " <tf.Operation 'Rank_6' type=Const>,\n",
       " <tf.Operation 'range_6/start' type=Const>,\n",
       " <tf.Operation 'range_6/delta' type=Const>,\n",
       " <tf.Operation 'range_6' type=Range>,\n",
       " <tf.Operation 'Mean_6' type=Mean>,\n",
       " <tf.Operation 'Rank_7' type=Const>,\n",
       " <tf.Operation 'range_7/start' type=Const>,\n",
       " <tf.Operation 'range_7/delta' type=Const>,\n",
       " <tf.Operation 'range_7' type=Range>,\n",
       " <tf.Operation 'Min' type=Min>,\n",
       " <tf.Operation 't_9/initial_value' type=Const>,\n",
       " <tf.Operation 't_9' type=VariableV2>,\n",
       " <tf.Operation 't_9/Assign' type=Assign>,\n",
       " <tf.Operation 't_9/read' type=Identity>,\n",
       " <tf.Operation 'init_11' type=NoOp>,\n",
       " <tf.Operation 'Rank_8' type=Const>,\n",
       " <tf.Operation 'range_8/start' type=Const>,\n",
       " <tf.Operation 'range_8/delta' type=Const>,\n",
       " <tf.Operation 'range_8' type=Range>,\n",
       " <tf.Operation 'Mean_7' type=Mean>,\n",
       " <tf.Operation 'Rank_9' type=Const>,\n",
       " <tf.Operation 'range_9/start' type=Const>,\n",
       " <tf.Operation 'range_9/delta' type=Const>,\n",
       " <tf.Operation 'range_9' type=Range>,\n",
       " <tf.Operation 'Min_1' type=Min>,\n",
       " <tf.Operation 'Rank_10' type=Const>,\n",
       " <tf.Operation 'range_10/start' type=Const>,\n",
       " <tf.Operation 'range_10/delta' type=Const>,\n",
       " <tf.Operation 'range_10' type=Range>,\n",
       " <tf.Operation 't_10/initial_value' type=Const>,\n",
       " <tf.Operation 't_10' type=VariableV2>,\n",
       " <tf.Operation 't_10/Assign' type=Assign>,\n",
       " <tf.Operation 't_10/read' type=Identity>,\n",
       " <tf.Operation 'init_12' type=NoOp>,\n",
       " <tf.Operation 'Rank_11' type=Const>,\n",
       " <tf.Operation 'range_11/start' type=Const>,\n",
       " <tf.Operation 'range_11/delta' type=Const>,\n",
       " <tf.Operation 'range_11' type=Range>,\n",
       " <tf.Operation 'Mean_8' type=Mean>,\n",
       " <tf.Operation 'Rank_12' type=Const>,\n",
       " <tf.Operation 'range_12/start' type=Const>,\n",
       " <tf.Operation 'range_12/delta' type=Const>,\n",
       " <tf.Operation 'range_12' type=Range>,\n",
       " <tf.Operation 'Min_2' type=Min>,\n",
       " <tf.Operation 'Rank_13' type=Const>,\n",
       " <tf.Operation 'range_13/start' type=Const>,\n",
       " <tf.Operation 'range_13/delta' type=Const>,\n",
       " <tf.Operation 'range_13' type=Range>,\n",
       " <tf.Operation 't_11/initial_value' type=Const>,\n",
       " <tf.Operation 't_11' type=VariableV2>,\n",
       " <tf.Operation 't_11/Assign' type=Assign>,\n",
       " <tf.Operation 't_11/read' type=Identity>,\n",
       " <tf.Operation 'init_13' type=NoOp>,\n",
       " <tf.Operation 'Rank_14' type=Const>,\n",
       " <tf.Operation 'range_14/start' type=Const>,\n",
       " <tf.Operation 'range_14/delta' type=Const>,\n",
       " <tf.Operation 'range_14' type=Range>,\n",
       " <tf.Operation 'Mean_9' type=Mean>,\n",
       " <tf.Operation 'Rank_15' type=Const>,\n",
       " <tf.Operation 'range_15/start' type=Const>,\n",
       " <tf.Operation 'range_15/delta' type=Const>,\n",
       " <tf.Operation 'range_15' type=Range>,\n",
       " <tf.Operation 'Min_3' type=Min>,\n",
       " <tf.Operation 'Rank_16' type=Const>,\n",
       " <tf.Operation 'sub/y' type=Const>,\n",
       " <tf.Operation 'sub' type=Sub>,\n",
       " <tf.Operation 'range_16/limit' type=Const>,\n",
       " <tf.Operation 'range_16/delta' type=Const>,\n",
       " <tf.Operation 'range_16' type=Range>,\n",
       " <tf.Operation 't_12/initial_value' type=Const>,\n",
       " <tf.Operation 't_12' type=VariableV2>,\n",
       " <tf.Operation 't_12/Assign' type=Assign>,\n",
       " <tf.Operation 't_12/read' type=Identity>,\n",
       " <tf.Operation 'init_14' type=NoOp>,\n",
       " <tf.Operation 'Rank_17' type=Const>,\n",
       " <tf.Operation 'range_17/start' type=Const>,\n",
       " <tf.Operation 'range_17/delta' type=Const>,\n",
       " <tf.Operation 'range_17' type=Range>,\n",
       " <tf.Operation 'Mean_10' type=Mean>,\n",
       " <tf.Operation 'Rank_18' type=Const>,\n",
       " <tf.Operation 'range_18/start' type=Const>,\n",
       " <tf.Operation 'range_18/delta' type=Const>,\n",
       " <tf.Operation 'range_18' type=Range>,\n",
       " <tf.Operation 'Min_4' type=Min>,\n",
       " <tf.Operation 'ReduceLogSumExp/Rank' type=Const>,\n",
       " <tf.Operation 'ReduceLogSumExp/range/start' type=Const>,\n",
       " <tf.Operation 'ReduceLogSumExp/range/delta' type=Const>,\n",
       " <tf.Operation 'ReduceLogSumExp/range' type=Range>,\n",
       " <tf.Operation 'ReduceLogSumExp/Max' type=Max>,\n",
       " <tf.Operation 'ReduceLogSumExp/StopGradient' type=StopGradient>,\n",
       " <tf.Operation 'ReduceLogSumExp/sub' type=Sub>,\n",
       " <tf.Operation 't_13/initial_value' type=Const>,\n",
       " <tf.Operation 't_13' type=VariableV2>,\n",
       " <tf.Operation 't_13/Assign' type=Assign>,\n",
       " <tf.Operation 't_13/read' type=Identity>,\n",
       " <tf.Operation 'init_15' type=NoOp>,\n",
       " <tf.Operation 'Rank_19' type=Const>,\n",
       " <tf.Operation 'range_19/start' type=Const>,\n",
       " <tf.Operation 'range_19/delta' type=Const>,\n",
       " <tf.Operation 'range_19' type=Range>,\n",
       " <tf.Operation 'Mean_11' type=Mean>,\n",
       " <tf.Operation 'Rank_20' type=Const>,\n",
       " <tf.Operation 'range_20/start' type=Const>,\n",
       " <tf.Operation 'range_20/delta' type=Const>,\n",
       " <tf.Operation 'range_20' type=Range>,\n",
       " <tf.Operation 'Min_5' type=Min>,\n",
       " <tf.Operation 'Rank_21' type=Const>,\n",
       " <tf.Operation 'range_21/start' type=Const>,\n",
       " <tf.Operation 'range_21/delta' type=Const>,\n",
       " <tf.Operation 'range_21' type=Range>,\n",
       " <tf.Operation 'Max' type=Max>,\n",
       " <tf.Operation 't_14/initial_value' type=Const>,\n",
       " <tf.Operation 't_14' type=VariableV2>,\n",
       " <tf.Operation 't_14/Assign' type=Assign>,\n",
       " <tf.Operation 't_14/read' type=Identity>,\n",
       " <tf.Operation 'init_16' type=NoOp>,\n",
       " <tf.Operation 'Rank_22' type=Const>,\n",
       " <tf.Operation 'range_22/start' type=Const>,\n",
       " <tf.Operation 'range_22/delta' type=Const>,\n",
       " <tf.Operation 'range_22' type=Range>,\n",
       " <tf.Operation 'Mean_12' type=Mean>,\n",
       " <tf.Operation 'Rank_23' type=Const>,\n",
       " <tf.Operation 'range_23/start' type=Const>,\n",
       " <tf.Operation 'range_23/delta' type=Const>,\n",
       " <tf.Operation 'range_23' type=Range>,\n",
       " <tf.Operation 'Min_6' type=Min>,\n",
       " <tf.Operation 'Rank_24' type=Const>,\n",
       " <tf.Operation 'range_24/start' type=Const>,\n",
       " <tf.Operation 'range_24/delta' type=Const>,\n",
       " <tf.Operation 'range_24' type=Range>,\n",
       " <tf.Operation 'Max_1' type=Max>,\n",
       " <tf.Operation 'Rank_25' type=Const>,\n",
       " <tf.Operation 'range_25/start' type=Const>,\n",
       " <tf.Operation 'range_25/delta' type=Const>,\n",
       " <tf.Operation 'range_25' type=Range>,\n",
       " <tf.Operation 'Prod' type=Prod>,\n",
       " <tf.Operation 't_15/initial_value' type=Const>,\n",
       " <tf.Operation 't_15' type=VariableV2>,\n",
       " <tf.Operation 't_15/Assign' type=Assign>,\n",
       " <tf.Operation 't_15/read' type=Identity>,\n",
       " <tf.Operation 'init_17' type=NoOp>,\n",
       " <tf.Operation 'Rank_26' type=Const>,\n",
       " <tf.Operation 'range_26/start' type=Const>,\n",
       " <tf.Operation 'range_26/delta' type=Const>,\n",
       " <tf.Operation 'range_26' type=Range>,\n",
       " <tf.Operation 'Mean_13' type=Mean>,\n",
       " <tf.Operation 'Rank_27' type=Const>,\n",
       " <tf.Operation 'range_27/start' type=Const>,\n",
       " <tf.Operation 'range_27/delta' type=Const>,\n",
       " <tf.Operation 'range_27' type=Range>,\n",
       " <tf.Operation 'Min_7' type=Min>,\n",
       " <tf.Operation 'Rank_28' type=Const>,\n",
       " <tf.Operation 'range_28/start' type=Const>,\n",
       " <tf.Operation 'range_28/delta' type=Const>,\n",
       " <tf.Operation 'range_28' type=Range>,\n",
       " <tf.Operation 'Max_2' type=Max>,\n",
       " <tf.Operation 'Rank_29' type=Const>,\n",
       " <tf.Operation 'range_29/start' type=Const>,\n",
       " <tf.Operation 'range_29/delta' type=Const>,\n",
       " <tf.Operation 'range_29' type=Range>,\n",
       " <tf.Operation 'Prod_1' type=Prod>,\n",
       " <tf.Operation 'Rank_30' type=Const>,\n",
       " <tf.Operation 'range_30/start' type=Const>,\n",
       " <tf.Operation 'range_30/delta' type=Const>,\n",
       " <tf.Operation 'range_30' type=Range>,\n",
       " <tf.Operation 'Sum' type=Sum>,\n",
       " <tf.Operation 'b/initial_value' type=Const>,\n",
       " <tf.Operation 'b' type=VariableV2>,\n",
       " <tf.Operation 'b/Assign' type=Assign>,\n",
       " <tf.Operation 'b/read' type=Identity>,\n",
       " <tf.Operation 'init_18' type=NoOp>,\n",
       " <tf.Operation 'ArgMax/dimension' type=Const>,\n",
       " <tf.Operation 'ArgMax' type=ArgMax>,\n",
       " <tf.Operation 't_16/initial_value' type=Const>,\n",
       " <tf.Operation 't_16' type=VariableV2>,\n",
       " <tf.Operation 't_16/Assign' type=Assign>,\n",
       " <tf.Operation 't_16/read' type=Identity>,\n",
       " <tf.Operation 'init_19' type=NoOp>,\n",
       " <tf.Operation 'Rank_31' type=Const>,\n",
       " <tf.Operation 'range_31/start' type=Const>,\n",
       " <tf.Operation 'range_31/delta' type=Const>,\n",
       " <tf.Operation 'range_31' type=Range>,\n",
       " <tf.Operation 'Mean_14' type=Mean>,\n",
       " <tf.Operation 'Rank_32' type=Const>,\n",
       " <tf.Operation 'range_32/start' type=Const>,\n",
       " <tf.Operation 'range_32/delta' type=Const>,\n",
       " <tf.Operation 'range_32' type=Range>,\n",
       " <tf.Operation 'Min_8' type=Min>,\n",
       " <tf.Operation 'Rank_33' type=Const>,\n",
       " <tf.Operation 'range_33/start' type=Const>,\n",
       " <tf.Operation 'range_33/delta' type=Const>,\n",
       " <tf.Operation 'range_33' type=Range>,\n",
       " <tf.Operation 'Max_3' type=Max>,\n",
       " <tf.Operation 'Rank_34' type=Const>,\n",
       " <tf.Operation 'range_34/start' type=Const>,\n",
       " <tf.Operation 'range_34/delta' type=Const>,\n",
       " <tf.Operation 'range_34' type=Range>,\n",
       " <tf.Operation 'Prod_2' type=Prod>,\n",
       " <tf.Operation 'Rank_35' type=Const>,\n",
       " <tf.Operation 'range_35/start' type=Const>,\n",
       " <tf.Operation 'range_35/delta' type=Const>,\n",
       " <tf.Operation 'range_35' type=Range>,\n",
       " <tf.Operation 'Sum_1' type=Sum>,\n",
       " <tf.Operation 'b_1/initial_value' type=Const>,\n",
       " <tf.Operation 'b_1' type=VariableV2>,\n",
       " <tf.Operation 'b_1/Assign' type=Assign>,\n",
       " <tf.Operation 'b_1/read' type=Identity>,\n",
       " <tf.Operation 'init_20' type=NoOp>,\n",
       " <tf.Operation 'ArgMax_1/dimension' type=Const>,\n",
       " <tf.Operation 'ArgMax_1' type=ArgMax>,\n",
       " <tf.Operation 'b_2/initial_value' type=Const>,\n",
       " <tf.Operation 'b_2' type=VariableV2>,\n",
       " <tf.Operation 'b_2/Assign' type=Assign>,\n",
       " <tf.Operation 'b_2/read' type=Identity>,\n",
       " <tf.Operation 'init_21' type=NoOp>,\n",
       " <tf.Operation 'ArgMax_2/dimension' type=Const>,\n",
       " <tf.Operation 'ArgMax_2' type=ArgMax>,\n",
       " <tf.Operation 'b_3/initial_value' type=Const>,\n",
       " <tf.Operation 'b_3' type=VariableV2>,\n",
       " <tf.Operation 'b_3/Assign' type=Assign>,\n",
       " <tf.Operation 'b_3/read' type=Identity>,\n",
       " <tf.Operation 'init_22' type=NoOp>,\n",
       " <tf.Operation 'ArgMax_3/dimension' type=Const>,\n",
       " <tf.Operation 'ArgMax_3' type=ArgMax>,\n",
       " <tf.Operation 'b_4/initial_value' type=Const>,\n",
       " <tf.Operation 'b_4' type=VariableV2>,\n",
       " <tf.Operation 'b_4/Assign' type=Assign>,\n",
       " <tf.Operation 'b_4/read' type=Identity>,\n",
       " <tf.Operation 'init_23' type=NoOp>,\n",
       " <tf.Operation 'ArgMax_4/dimension' type=Const>,\n",
       " <tf.Operation 'ArgMax_4' type=ArgMax>,\n",
       " <tf.Operation 'Placeholder_10' type=Placeholder>,\n",
       " <tf.Operation 'Placeholder_11' type=Placeholder>,\n",
       " <tf.Operation 'weights/initial_value' type=Const>,\n",
       " <tf.Operation 'weights' type=VariableV2>,\n",
       " <tf.Operation 'weights/Assign' type=Assign>,\n",
       " <tf.Operation 'weights/read' type=Identity>,\n",
       " <tf.Operation 'Mul_5' type=Mul>,\n",
       " <tf.Operation 'sub_1' type=Sub>,\n",
       " <tf.Operation 'Pow/y' type=Const>,\n",
       " <tf.Operation 'Pow' type=Pow>,\n",
       " <tf.Operation 'weights_1/initial_value' type=Const>,\n",
       " <tf.Operation 'weights_1' type=VariableV2>,\n",
       " <tf.Operation 'weights_1/Assign' type=Assign>,\n",
       " <tf.Operation 'weights_1/read' type=Identity>,\n",
       " <tf.Operation 'Mul_6' type=Mul>,\n",
       " <tf.Operation 'sub_2' type=Sub>,\n",
       " <tf.Operation 'Pow_1/y' type=Const>,\n",
       " <tf.Operation 'Pow_1' type=Pow>,\n",
       " <tf.Operation 'init_24' type=NoOp>,\n",
       " <tf.Operation 'weights_2/initial_value' type=Const>,\n",
       " <tf.Operation 'weights_2' type=VariableV2>,\n",
       " <tf.Operation 'weights_2/Assign' type=Assign>,\n",
       " <tf.Operation 'weights_2/read' type=Identity>,\n",
       " <tf.Operation 'Mul_7' type=Mul>,\n",
       " <tf.Operation 'sub_3' type=Sub>,\n",
       " <tf.Operation 'Pow_2/y' type=Const>,\n",
       " <tf.Operation 'Pow_2' type=Pow>,\n",
       " <tf.Operation 'init_25' type=NoOp>,\n",
       " <tf.Operation 'Const_17' type=Const>,\n",
       " <tf.Operation 'Const_18' type=Const>,\n",
       " <tf.Operation 'Add' type=Add>,\n",
       " <tf.Operation 'Add_1' type=Add>,\n",
       " <tf.Operation 'Add_2' type=Add>,\n",
       " <tf.Operation 'Add_3' type=Add>,\n",
       " <tf.Operation 'Add_4' type=Add>,\n",
       " <tf.Operation 'Add_5' type=Add>,\n",
       " <tf.Operation 'Add_6' type=Add>,\n",
       " <tf.Operation 'Mul_8' type=Mul>,\n",
       " <tf.Operation 'Add_7' type=Add>,\n",
       " <tf.Operation 'Mul_9' type=Mul>,\n",
       " <tf.Operation 'Add_8' type=Add>,\n",
       " <tf.Operation 'Mul_10' type=Mul>,\n",
       " <tf.Operation 'Add_9' type=Add>,\n",
       " <tf.Operation 'Mul_11' type=Mul>,\n",
       " <tf.Operation 'Add_10' type=Add>,\n",
       " <tf.Operation 'Mul_12' type=Mul>,\n",
       " <tf.Operation 'truediv/Cast' type=Cast>,\n",
       " <tf.Operation 'truediv/Cast_1' type=Cast>,\n",
       " <tf.Operation 'truediv' type=RealDiv>,\n",
       " <tf.Operation 'Variable_9/initial_value' type=Const>,\n",
       " <tf.Operation 'Variable_9' type=VariableV2>,\n",
       " <tf.Operation 'Variable_9/Assign' type=Assign>,\n",
       " <tf.Operation 'Variable_9/read' type=Identity>,\n",
       " <tf.Operation 'Variable_10/initial_value' type=Const>,\n",
       " <tf.Operation 'Variable_10' type=VariableV2>,\n",
       " <tf.Operation 'Variable_10/Assign' type=Assign>,\n",
       " <tf.Operation 'Variable_10/read' type=Identity>,\n",
       " <tf.Operation 'Const_19' type=Const>,\n",
       " <tf.Operation 'string' type=Const>,\n",
       " <tf.Operation 'Const_20' type=Const>,\n",
       " <tf.Operation 'Const_21' type=Const>,\n",
       " <tf.Operation 'Const_22' type=Const>,\n",
       " <tf.Operation 'Const_23' type=Const>,\n",
       " <tf.Operation 'Const_24' type=Const>,\n",
       " <tf.Operation 'Const_25' type=Const>,\n",
       " <tf.Operation 'Const_26' type=Const>,\n",
       " <tf.Operation 'Const_27' type=Const>,\n",
       " <tf.Operation 'Const_28' type=Const>,\n",
       " <tf.Operation 'Const_29' type=Const>,\n",
       " <tf.Operation 'Const_30' type=Const>,\n",
       " <tf.Operation 'Const_31' type=Const>,\n",
       " <tf.Operation 'Const_32' type=Const>,\n",
       " <tf.Operation 'Const_33' type=Const>,\n",
       " <tf.Operation 'Const_34' type=Const>,\n",
       " <tf.Operation 'Const_35' type=Const>,\n",
       " <tf.Operation 'Const_36' type=Const>,\n",
       " <tf.Operation 'Const_37' type=Const>,\n",
       " <tf.Operation 'Const_38' type=Const>,\n",
       " <tf.Operation 'Const_39' type=Const>,\n",
       " <tf.Operation 'Const_40' type=Const>,\n",
       " <tf.Operation 'Const_41' type=Const>,\n",
       " <tf.Operation 'Mul_13' type=Mul>,\n",
       " <tf.Operation 'Const_42' type=Const>,\n",
       " <tf.Operation 'Const_43' type=Const>,\n",
       " <tf.Operation 'Mul_14' type=Mul>,\n",
       " <tf.Operation 'Variable_11/initial_value' type=Const>,\n",
       " <tf.Operation 'Variable_11' type=VariableV2>,\n",
       " <tf.Operation 'Variable_11/Assign' type=Assign>,\n",
       " <tf.Operation 'Variable_11/read' type=Identity>,\n",
       " <tf.Operation 'Const_44' type=Const>,\n",
       " <tf.Operation 'Add_11' type=Add>,\n",
       " <tf.Operation 'Assign' type=Assign>,\n",
       " <tf.Operation 'Variable_12/initial_value' type=Const>,\n",
       " <tf.Operation 'Variable_12' type=VariableV2>,\n",
       " <tf.Operation 'Variable_12/Assign' type=Assign>,\n",
       " <tf.Operation 'Variable_12/read' type=Identity>,\n",
       " <tf.Operation 'Const_45' type=Const>,\n",
       " <tf.Operation 'Add_12' type=Add>,\n",
       " <tf.Operation 'Assign_1' type=Assign>,\n",
       " <tf.Operation 'Variable_13/initial_value' type=Const>,\n",
       " <tf.Operation 'Variable_13' type=VariableV2>,\n",
       " <tf.Operation 'Variable_13/Assign' type=Assign>,\n",
       " <tf.Operation 'Variable_13/read' type=Identity>,\n",
       " <tf.Operation 'Const_46' type=Const>,\n",
       " <tf.Operation 'Add_13' type=Add>,\n",
       " <tf.Operation 'Assign_2' type=Assign>,\n",
       " <tf.Operation 'Variable_14/initial_value' type=Const>,\n",
       " <tf.Operation 'Variable_14' type=VariableV2>,\n",
       " <tf.Operation 'Variable_14/Assign' type=Assign>,\n",
       " <tf.Operation 'Variable_14/read' type=Identity>,\n",
       " <tf.Operation 'Const_47' type=Const>,\n",
       " <tf.Operation 'Add_14' type=Add>,\n",
       " <tf.Operation 'Assign_3' type=Assign>,\n",
       " <tf.Operation 'init_26' type=NoOp>,\n",
       " <tf.Operation 'Const_48' type=Const>,\n",
       " <tf.Operation 'Const_49' type=Const>,\n",
       " <tf.Operation 'Add_15' type=Add>,\n",
       " <tf.Operation 'Const_50' type=Const>,\n",
       " <tf.Operation 'Const_51' type=Const>,\n",
       " <tf.Operation 'Add_16' type=Add>,\n",
       " <tf.Operation 'Const_52' type=Const>,\n",
       " <tf.Operation 'Const_53' type=Const>,\n",
       " <tf.Operation 'Const_54' type=Const>,\n",
       " <tf.Operation 'Const_55' type=Const>,\n",
       " <tf.Operation 'Const_56' type=Const>,\n",
       " <tf.Operation 'Const_57' type=Const>,\n",
       " <tf.Operation 'Const_58' type=Const>,\n",
       " <tf.Operation 'Const_59' type=Const>,\n",
       " <tf.Operation 'Const_60' type=Const>,\n",
       " <tf.Operation 'Const_61' type=Const>,\n",
       " <tf.Operation 'Const_62' type=Const>,\n",
       " <tf.Operation 'Const_63' type=Const>,\n",
       " <tf.Operation 'Const_64' type=Const>,\n",
       " <tf.Operation 'Const_65' type=Const>,\n",
       " <tf.Operation 'Const_66' type=Const>,\n",
       " <tf.Operation 'Const_67' type=Const>]"
      ]
     },
     "execution_count": 228,
     "metadata": {},
     "output_type": "execute_result"
    }
   ],
   "source": [
    "graph = tf.get_default_graph()\n",
    "print(graph)\n",
    "graph.get_operations()"
   ]
  },
  {
   "cell_type": "code",
   "execution_count": 229,
   "metadata": {
    "collapsed": true
   },
   "outputs": [],
   "source": [
    "state = tf.Variable(0)"
   ]
  },
  {
   "cell_type": "code",
   "execution_count": 230,
   "metadata": {
    "collapsed": true
   },
   "outputs": [],
   "source": [
    "one = tf.constant(1)\n",
    "new_value = tf.add(state, one)\n",
    "update = tf.assign(state, new_value)"
   ]
  },
  {
   "cell_type": "code",
   "execution_count": 231,
   "metadata": {
    "collapsed": true
   },
   "outputs": [],
   "source": [
    "init_op = tf.global_variables_initializer()"
   ]
  },
  {
   "cell_type": "code",
   "execution_count": 234,
   "metadata": {},
   "outputs": [
    {
     "name": "stdout",
     "output_type": "stream",
     "text": [
      "0\n",
      "1\n",
      "2\n",
      "3\n"
     ]
    }
   ],
   "source": [
    "with tf.Session() as sess:\n",
    "    sess.run(init_op)\n",
    "    print(sess.run(state))\n",
    "    for _ in range(3):\n",
    "        sess.run(update)\n",
    "        print(sess.run(state))"
   ]
  },
  {
   "cell_type": "markdown",
   "metadata": {},
   "source": [
    "Placeholder:\n",
    "\n",
    "if you want to feed the data to tensorflow model from outside a model, you will need to use placeholder\n",
    "So what are these placeholders and what do they do?\n",
    "\n",
    "Placeholders can be seen as \"holes\" in your model, \"holes\" which you will pass the data to, you can create them using \n",
    "tf.placeholder(datatype), where datatype specifies the type of data (integers, floating points, strings, booleans) along with its precision (8, 16, 32, 64) bits."
   ]
  },
  {
   "cell_type": "code",
   "execution_count": 241,
   "metadata": {},
   "outputs": [
    {
     "name": "stdout",
     "output_type": "stream",
     "text": [
      "7.0\n"
     ]
    }
   ],
   "source": [
    "## creating the place holder \n",
    "a = tf.placeholder(tf.float32)\n",
    "b = a * 2\n",
    "with tf.Session() as sess:\n",
    "    result = sess.run(b, feed_dict = {a:3.5})\n",
    "    print(result)"
   ]
  },
  {
   "cell_type": "code",
   "execution_count": 244,
   "metadata": {},
   "outputs": [
    {
     "name": "stdout",
     "output_type": "stream",
     "text": [
      "[[[  2.   4.   6.]\n",
      "  [  8.  10.  12.]\n",
      "  [ 14.  16.  18.]\n",
      "  [ 20.  22.  24.]]\n",
      "\n",
      " [[ 26.  28.  30.]\n",
      "  [ 32.  34.  36.]\n",
      "  [ 38.  40.  42.]\n",
      "  [ 44.  46.  48.]]]\n"
     ]
    }
   ],
   "source": [
    "dictionary={a: [ [ [1,2,3],[4,5,6],[7,8,9],[10,11,12] ] , [ [13,14,15],[16,17,18],[19,20,21],[22,23,24] ] ] }\n",
    "\n",
    "with tf.Session() as sess:\n",
    "    result = sess.run(b,feed_dict=dictionary)\n",
    "    print(result)"
   ]
  },
  {
   "cell_type": "markdown",
   "metadata": {},
   "source": [
    "For sigmoid:\n",
    "\n",
    "tf.nn.sigmoid is an activiation function, it's a little more complicated, but this function helps learning models to evaluate what kind of information is good or not."
   ]
  },
  {
   "cell_type": "markdown",
   "metadata": {},
   "source": []
  },
  {
   "cell_type": "code",
   "execution_count": null,
   "metadata": {
    "collapsed": true
   },
   "outputs": [],
   "source": []
  }
 ],
 "metadata": {
  "kernelspec": {
   "display_name": "Python 3",
   "language": "python",
   "name": "python3"
  },
  "language_info": {
   "codemirror_mode": {
    "name": "ipython",
    "version": 3
   },
   "file_extension": ".py",
   "mimetype": "text/x-python",
   "name": "python",
   "nbconvert_exporter": "python",
   "pygments_lexer": "ipython3",
   "version": "3.6.1"
  }
 },
 "nbformat": 4,
 "nbformat_minor": 2
}
